{
 "cells": [
  {
   "cell_type": "code",
   "execution_count": 0,
   "metadata": {
    "application/vnd.databricks.v1+cell": {
     "cellMetadata": {
      "byteLimit": 2048000,
      "rowLimit": 10000
     },
     "inputWidgets": {},
     "nuid": "bc6daa7e-49ae-4111-9149-cb1ea1050703",
     "showTitle": false,
     "title": ""
    }
   },
   "outputs": [],
   "source": [
    "import pandas as pd\n",
    "import numpy as np\n",
    "import matplotlib.pyplot as plt\n",
    "from scipy import stats\n",
    "import seaborn as sns\n",
    "from sklearn.model_selection import train_test_split\n",
    "from sklearn.preprocessing import StandardScaler, OneHotEncoder\n",
    "from sklearn.linear_model import LinearRegression\n",
    "from sklearn.pipeline import Pipeline\n",
    "from sklearn.metrics import mean_squared_error, r2_score"
   ]
  },
  {
   "cell_type": "code",
   "execution_count": 0,
   "metadata": {
    "application/vnd.databricks.v1+cell": {
     "cellMetadata": {
      "byteLimit": 2048000,
      "rowLimit": 10000
     },
     "inputWidgets": {},
     "nuid": "13eccc73-2452-49ff-8b7a-003f8440a0f7",
     "showTitle": false,
     "title": ""
    }
   },
   "outputs": [],
   "source": [
    "df_payment = spark.read.format(\"delta\").load(\"/mnt/gold/dim_payment\")\n",
    "df_user = spark.read.format(\"delta\").load(\"/mnt/gold/dim_user\")\n",
    "df_location = spark.read.format(\"delta\").load(\"/mnt/gold/dim_location\")\n",
    "df_calender = spark.read.format(\"delta\").load(\"/mnt/gold/dim_calendar\")\n",
    "df_fact_request = spark.read.format(\"delta\").load(\"/mnt/gold/fct_request\")"
   ]
  },
  {
   "cell_type": "code",
   "execution_count": 0,
   "metadata": {
    "application/vnd.databricks.v1+cell": {
     "cellMetadata": {
      "byteLimit": 2048000,
      "rowLimit": 10000
     },
     "inputWidgets": {},
     "nuid": "0dd26ea0-cc18-43e1-8512-ea8e0b587638",
     "showTitle": false,
     "title": ""
    }
   },
   "outputs": [
    {
     "output_type": "stream",
     "name": "stderr",
     "output_type": "stream",
     "text": [
      "/databricks/spark/python/pyspark/sql/pandas/utils.py:109: UserWarning: The conversion of DecimalType columns is inefficient and may take a long time. Column names: [latitude, longitude] If those columns are not necessary, you may consider dropping them or converting to primitive types before the conversion.\n  warnings.warn(\n/databricks/spark/python/pyspark/sql/pandas/utils.py:109: UserWarning: The conversion of DecimalType columns is inefficient and may take a long time. Column names: [trip_distance, base_fare, extra_fare, mta_tax, tip_amount, tolls_amount, improvement_surcharge] If those columns are not necessary, you may consider dropping them or converting to primitive types before the conversion.\n  warnings.warn(\n"
     ]
    }
   ],
   "source": [
    "df_payment = df_payment.toPandas()\n",
    "df_user = df_user.toPandas()\n",
    "df_location = df_location.toPandas()\n",
    "df_calender = df_calender.toPandas()\n",
    "df_fact_request = df_fact_request.toPandas()"
   ]
  },
  {
   "cell_type": "code",
   "execution_count": 0,
   "metadata": {
    "application/vnd.databricks.v1+cell": {
     "cellMetadata": {
      "byteLimit": 2048000,
      "rowLimit": 10000
     },
     "inputWidgets": {},
     "nuid": "443b032f-60e5-493b-9f8e-8fa74853978b",
     "showTitle": false,
     "title": ""
    }
   },
   "outputs": [
    {
     "output_type": "execute_result",
     "data": {
      "text/html": [
       "<div>\n",
       "<style scoped>\n",
       "    .dataframe tbody tr th:only-of-type {\n",
       "        vertical-align: middle;\n",
       "    }\n",
       "\n",
       "    .dataframe tbody tr th {\n",
       "        vertical-align: top;\n",
       "    }\n",
       "\n",
       "    .dataframe thead th {\n",
       "        text-align: right;\n",
       "    }\n",
       "</style>\n",
       "<table border=\"1\" class=\"dataframe\">\n",
       "  <thead>\n",
       "    <tr style=\"text-align: right;\">\n",
       "      <th></th>\n",
       "      <th>s_payment</th>\n",
       "      <th>payment_method_id</th>\n",
       "      <th>method_name</th>\n",
       "      <th>payment_status_id</th>\n",
       "      <th>status_name</th>\n",
       "      <th>processing_date</th>\n",
       "      <th>record_hash</th>\n",
       "    </tr>\n",
       "  </thead>\n",
       "  <tbody>\n",
       "    <tr>\n",
       "      <th>0</th>\n",
       "      <td>0</td>\n",
       "      <td>1</td>\n",
       "      <td>Apple Pay</td>\n",
       "      <td>1</td>\n",
       "      <td>Completed</td>\n",
       "      <td>2024-10-16 13:52:45</td>\n",
       "      <td>5feceb66ffc86f38d952786c6d696c79c2dbc239dd4e91...</td>\n",
       "    </tr>\n",
       "    <tr>\n",
       "      <th>1</th>\n",
       "      <td>1</td>\n",
       "      <td>1</td>\n",
       "      <td>Apple Pay</td>\n",
       "      <td>2</td>\n",
       "      <td>Failed</td>\n",
       "      <td>2024-10-16 13:52:45</td>\n",
       "      <td>6b86b273ff34fce19d6b804eff5a3f5747ada4eaa22f1d...</td>\n",
       "    </tr>\n",
       "    <tr>\n",
       "      <th>2</th>\n",
       "      <td>2</td>\n",
       "      <td>1</td>\n",
       "      <td>Apple Pay</td>\n",
       "      <td>3</td>\n",
       "      <td>Pending</td>\n",
       "      <td>2024-10-16 13:52:45</td>\n",
       "      <td>d4735e3a265e16eee03f59718b9b5d03019c07d8b6c51f...</td>\n",
       "    </tr>\n",
       "    <tr>\n",
       "      <th>3</th>\n",
       "      <td>3</td>\n",
       "      <td>1</td>\n",
       "      <td>Apple Pay</td>\n",
       "      <td>4</td>\n",
       "      <td>Refunded</td>\n",
       "      <td>2024-10-16 13:52:45</td>\n",
       "      <td>4e07408562bedb8b60ce05c1decfe3ad16b72230967de0...</td>\n",
       "    </tr>\n",
       "    <tr>\n",
       "      <th>4</th>\n",
       "      <td>4</td>\n",
       "      <td>2</td>\n",
       "      <td>Cash</td>\n",
       "      <td>1</td>\n",
       "      <td>Completed</td>\n",
       "      <td>2024-10-16 13:52:45</td>\n",
       "      <td>4b227777d4dd1fc61c6f884f48641d02b4d121d3fd328c...</td>\n",
       "    </tr>\n",
       "    <tr>\n",
       "      <th>5</th>\n",
       "      <td>5</td>\n",
       "      <td>2</td>\n",
       "      <td>Cash</td>\n",
       "      <td>2</td>\n",
       "      <td>Failed</td>\n",
       "      <td>2024-10-16 13:52:45</td>\n",
       "      <td>ef2d127de37b942baad06145e54b0c619a1f22327b2ebb...</td>\n",
       "    </tr>\n",
       "    <tr>\n",
       "      <th>6</th>\n",
       "      <td>6</td>\n",
       "      <td>2</td>\n",
       "      <td>Cash</td>\n",
       "      <td>3</td>\n",
       "      <td>Pending</td>\n",
       "      <td>2024-10-16 13:52:45</td>\n",
       "      <td>e7f6c011776e8db7cd330b54174fd76f7d0216b612387a...</td>\n",
       "    </tr>\n",
       "    <tr>\n",
       "      <th>7</th>\n",
       "      <td>7</td>\n",
       "      <td>2</td>\n",
       "      <td>Cash</td>\n",
       "      <td>4</td>\n",
       "      <td>Refunded</td>\n",
       "      <td>2024-10-16 13:52:45</td>\n",
       "      <td>7902699be42c8a8e46fbbb4501726517e86b22c56a189f...</td>\n",
       "    </tr>\n",
       "    <tr>\n",
       "      <th>8</th>\n",
       "      <td>8</td>\n",
       "      <td>3</td>\n",
       "      <td>Credit Card</td>\n",
       "      <td>1</td>\n",
       "      <td>Completed</td>\n",
       "      <td>2024-10-16 13:52:45</td>\n",
       "      <td>2c624232cdd221771294dfbb310aca000a0df6ac8b66b6...</td>\n",
       "    </tr>\n",
       "    <tr>\n",
       "      <th>9</th>\n",
       "      <td>9</td>\n",
       "      <td>3</td>\n",
       "      <td>Credit Card</td>\n",
       "      <td>2</td>\n",
       "      <td>Failed</td>\n",
       "      <td>2024-10-16 13:52:45</td>\n",
       "      <td>19581e27de7ced00ff1ce50b2047e7a567c76b1cbaebab...</td>\n",
       "    </tr>\n",
       "    <tr>\n",
       "      <th>10</th>\n",
       "      <td>10</td>\n",
       "      <td>3</td>\n",
       "      <td>Credit Card</td>\n",
       "      <td>3</td>\n",
       "      <td>Pending</td>\n",
       "      <td>2024-10-16 13:52:45</td>\n",
       "      <td>4a44dc15364204a80fe80e9039455cc1608281820fe2b2...</td>\n",
       "    </tr>\n",
       "    <tr>\n",
       "      <th>11</th>\n",
       "      <td>11</td>\n",
       "      <td>3</td>\n",
       "      <td>Credit Card</td>\n",
       "      <td>4</td>\n",
       "      <td>Refunded</td>\n",
       "      <td>2024-10-16 13:52:45</td>\n",
       "      <td>4fc82b26aecb47d2868c4efbe3581732a3e7cbcc6c2efb...</td>\n",
       "    </tr>\n",
       "    <tr>\n",
       "      <th>12</th>\n",
       "      <td>12</td>\n",
       "      <td>4</td>\n",
       "      <td>Debit Card</td>\n",
       "      <td>1</td>\n",
       "      <td>Completed</td>\n",
       "      <td>2024-10-16 13:52:45</td>\n",
       "      <td>6b51d431df5d7f141cbececcf79edf3dd861c3b4069f0b...</td>\n",
       "    </tr>\n",
       "    <tr>\n",
       "      <th>13</th>\n",
       "      <td>13</td>\n",
       "      <td>4</td>\n",
       "      <td>Debit Card</td>\n",
       "      <td>2</td>\n",
       "      <td>Failed</td>\n",
       "      <td>2024-10-16 13:52:45</td>\n",
       "      <td>3fdba35f04dc8c462986c992bcf875546257113072a909...</td>\n",
       "    </tr>\n",
       "    <tr>\n",
       "      <th>14</th>\n",
       "      <td>14</td>\n",
       "      <td>4</td>\n",
       "      <td>Debit Card</td>\n",
       "      <td>3</td>\n",
       "      <td>Pending</td>\n",
       "      <td>2024-10-16 13:52:45</td>\n",
       "      <td>8527a891e224136950ff32ca212b45bc93f69fbb801c3b...</td>\n",
       "    </tr>\n",
       "    <tr>\n",
       "      <th>15</th>\n",
       "      <td>15</td>\n",
       "      <td>4</td>\n",
       "      <td>Debit Card</td>\n",
       "      <td>4</td>\n",
       "      <td>Refunded</td>\n",
       "      <td>2024-10-16 13:52:45</td>\n",
       "      <td>e629fa6598d732768f7c726b4b621285f9c3b85303900a...</td>\n",
       "    </tr>\n",
       "    <tr>\n",
       "      <th>16</th>\n",
       "      <td>16</td>\n",
       "      <td>5</td>\n",
       "      <td>Google Pay</td>\n",
       "      <td>1</td>\n",
       "      <td>Completed</td>\n",
       "      <td>2024-10-16 13:52:45</td>\n",
       "      <td>b17ef6d19c7a5b1ee83b907c595526dcb1eb06db8227d6...</td>\n",
       "    </tr>\n",
       "    <tr>\n",
       "      <th>17</th>\n",
       "      <td>17</td>\n",
       "      <td>5</td>\n",
       "      <td>Google Pay</td>\n",
       "      <td>2</td>\n",
       "      <td>Failed</td>\n",
       "      <td>2024-10-16 13:52:45</td>\n",
       "      <td>4523540f1504cd17100c4835e85b7eefd49911580f8eff...</td>\n",
       "    </tr>\n",
       "    <tr>\n",
       "      <th>18</th>\n",
       "      <td>18</td>\n",
       "      <td>5</td>\n",
       "      <td>Google Pay</td>\n",
       "      <td>3</td>\n",
       "      <td>Pending</td>\n",
       "      <td>2024-10-16 13:52:45</td>\n",
       "      <td>4ec9599fc203d176a301536c2e091a19bc852759b255bd...</td>\n",
       "    </tr>\n",
       "    <tr>\n",
       "      <th>19</th>\n",
       "      <td>19</td>\n",
       "      <td>5</td>\n",
       "      <td>Google Pay</td>\n",
       "      <td>4</td>\n",
       "      <td>Refunded</td>\n",
       "      <td>2024-10-16 13:52:45</td>\n",
       "      <td>9400f1b21cb527d7fa3d3eabba93557a18ebe7a2ca4e47...</td>\n",
       "    </tr>\n",
       "  </tbody>\n",
       "</table>\n",
       "</div>"
      ],
      "text/plain": [
       "    s_payment  ...                                        record_hash\n",
       "0           0  ...  5feceb66ffc86f38d952786c6d696c79c2dbc239dd4e91...\n",
       "1           1  ...  6b86b273ff34fce19d6b804eff5a3f5747ada4eaa22f1d...\n",
       "2           2  ...  d4735e3a265e16eee03f59718b9b5d03019c07d8b6c51f...\n",
       "3           3  ...  4e07408562bedb8b60ce05c1decfe3ad16b72230967de0...\n",
       "4           4  ...  4b227777d4dd1fc61c6f884f48641d02b4d121d3fd328c...\n",
       "5           5  ...  ef2d127de37b942baad06145e54b0c619a1f22327b2ebb...\n",
       "6           6  ...  e7f6c011776e8db7cd330b54174fd76f7d0216b612387a...\n",
       "7           7  ...  7902699be42c8a8e46fbbb4501726517e86b22c56a189f...\n",
       "8           8  ...  2c624232cdd221771294dfbb310aca000a0df6ac8b66b6...\n",
       "9           9  ...  19581e27de7ced00ff1ce50b2047e7a567c76b1cbaebab...\n",
       "10         10  ...  4a44dc15364204a80fe80e9039455cc1608281820fe2b2...\n",
       "11         11  ...  4fc82b26aecb47d2868c4efbe3581732a3e7cbcc6c2efb...\n",
       "12         12  ...  6b51d431df5d7f141cbececcf79edf3dd861c3b4069f0b...\n",
       "13         13  ...  3fdba35f04dc8c462986c992bcf875546257113072a909...\n",
       "14         14  ...  8527a891e224136950ff32ca212b45bc93f69fbb801c3b...\n",
       "15         15  ...  e629fa6598d732768f7c726b4b621285f9c3b85303900a...\n",
       "16         16  ...  b17ef6d19c7a5b1ee83b907c595526dcb1eb06db8227d6...\n",
       "17         17  ...  4523540f1504cd17100c4835e85b7eefd49911580f8eff...\n",
       "18         18  ...  4ec9599fc203d176a301536c2e091a19bc852759b255bd...\n",
       "19         19  ...  9400f1b21cb527d7fa3d3eabba93557a18ebe7a2ca4e47...\n",
       "\n",
       "[20 rows x 7 columns]"
      ]
     },
     "execution_count": 4,
     "metadata": {},
     "output_type": "execute_result"
    }
   ],
   "source": [
    "df_payment.head(20)"
   ]
  },
  {
   "cell_type": "code",
   "execution_count": 0,
   "metadata": {
    "application/vnd.databricks.v1+cell": {
     "cellMetadata": {
      "byteLimit": 2048000,
      "rowLimit": 10000
     },
     "inputWidgets": {},
     "nuid": "69de195b-a830-42fc-89a6-ccfd5d9f7433",
     "showTitle": false,
     "title": ""
    }
   },
   "outputs": [
    {
     "output_type": "execute_result",
     "data": {
      "text/html": [
       "<div>\n",
       "<style scoped>\n",
       "    .dataframe tbody tr th:only-of-type {\n",
       "        vertical-align: middle;\n",
       "    }\n",
       "\n",
       "    .dataframe tbody tr th {\n",
       "        vertical-align: top;\n",
       "    }\n",
       "\n",
       "    .dataframe thead th {\n",
       "        text-align: right;\n",
       "    }\n",
       "</style>\n",
       "<table border=\"1\" class=\"dataframe\">\n",
       "  <thead>\n",
       "    <tr style=\"text-align: right;\">\n",
       "      <th></th>\n",
       "      <th>user_id</th>\n",
       "      <th>full_name</th>\n",
       "      <th>email</th>\n",
       "      <th>phone_number</th>\n",
       "      <th>vehicle_id</th>\n",
       "      <th>vehicle_make</th>\n",
       "      <th>vehicle_model</th>\n",
       "      <th>vehicle_year</th>\n",
       "      <th>vehicle_color</th>\n",
       "      <th>vehicle_license_plate</th>\n",
       "      <th>processing_date</th>\n",
       "      <th>record_hash</th>\n",
       "    </tr>\n",
       "  </thead>\n",
       "  <tbody>\n",
       "    <tr>\n",
       "      <th>0</th>\n",
       "      <td>2</td>\n",
       "      <td>Aaron Adams</td>\n",
       "      <td>james82@example.com</td>\n",
       "      <td>(332) 224-7965</td>\n",
       "      <td>Passenger</td>\n",
       "      <td>Passenger</td>\n",
       "      <td>Passenger</td>\n",
       "      <td>Passenger</td>\n",
       "      <td>Passenger</td>\n",
       "      <td>Passenger</td>\n",
       "      <td>2024-10-16 13:52:25</td>\n",
       "      <td>683e6c22fa1e45bef5fbaee690690bb2aae9fbdc94db98...</td>\n",
       "    </tr>\n",
       "    <tr>\n",
       "      <th>1</th>\n",
       "      <td>11</td>\n",
       "      <td>Aaron Allen</td>\n",
       "      <td>nicolecasey@example.com</td>\n",
       "      <td>(921) 454-7983</td>\n",
       "      <td>Passenger</td>\n",
       "      <td>Passenger</td>\n",
       "      <td>Passenger</td>\n",
       "      <td>Passenger</td>\n",
       "      <td>Passenger</td>\n",
       "      <td>Passenger</td>\n",
       "      <td>2024-10-16 13:52:25</td>\n",
       "      <td>7296d6da075186b5bae1067a7627289bc2caeeb1485e5b...</td>\n",
       "    </tr>\n",
       "    <tr>\n",
       "      <th>2</th>\n",
       "      <td>14</td>\n",
       "      <td>Aaron Alvarez</td>\n",
       "      <td>daniel11@example.net</td>\n",
       "      <td>(240) 297-8660</td>\n",
       "      <td>Passenger</td>\n",
       "      <td>Passenger</td>\n",
       "      <td>Passenger</td>\n",
       "      <td>Passenger</td>\n",
       "      <td>Passenger</td>\n",
       "      <td>Passenger</td>\n",
       "      <td>2024-10-16 13:52:25</td>\n",
       "      <td>8319e9cd502576c684e7ef1d9849a73e03a63b14066bff...</td>\n",
       "    </tr>\n",
       "    <tr>\n",
       "      <th>3</th>\n",
       "      <td>18</td>\n",
       "      <td>Aaron Anderson</td>\n",
       "      <td>vshelton@example.com</td>\n",
       "      <td>(226) 998-6405</td>\n",
       "      <td>Passenger</td>\n",
       "      <td>Passenger</td>\n",
       "      <td>Passenger</td>\n",
       "      <td>Passenger</td>\n",
       "      <td>Passenger</td>\n",
       "      <td>Passenger</td>\n",
       "      <td>2024-10-16 13:52:25</td>\n",
       "      <td>c887cc329778e8abfc2325167bbba7d53c54013f9bc2fa...</td>\n",
       "    </tr>\n",
       "    <tr>\n",
       "      <th>4</th>\n",
       "      <td>30</td>\n",
       "      <td>Aaron Baker</td>\n",
       "      <td>ashley20@example.com</td>\n",
       "      <td>(639) 891-6083</td>\n",
       "      <td>Passenger</td>\n",
       "      <td>Passenger</td>\n",
       "      <td>Passenger</td>\n",
       "      <td>Passenger</td>\n",
       "      <td>Passenger</td>\n",
       "      <td>Passenger</td>\n",
       "      <td>2024-10-16 13:52:25</td>\n",
       "      <td>532256cbf9b6411ef9394a18f3eec4de51f1eec92475b3...</td>\n",
       "    </tr>\n",
       "  </tbody>\n",
       "</table>\n",
       "</div>"
      ],
      "text/plain": [
       "   user_id  ...                                        record_hash\n",
       "0        2  ...  683e6c22fa1e45bef5fbaee690690bb2aae9fbdc94db98...\n",
       "1       11  ...  7296d6da075186b5bae1067a7627289bc2caeeb1485e5b...\n",
       "2       14  ...  8319e9cd502576c684e7ef1d9849a73e03a63b14066bff...\n",
       "3       18  ...  c887cc329778e8abfc2325167bbba7d53c54013f9bc2fa...\n",
       "4       30  ...  532256cbf9b6411ef9394a18f3eec4de51f1eec92475b3...\n",
       "\n",
       "[5 rows x 12 columns]"
      ]
     },
     "execution_count": 5,
     "metadata": {},
     "output_type": "execute_result"
    }
   ],
   "source": [
    "df_user.head()"
   ]
  },
  {
   "cell_type": "markdown",
   "metadata": {
    "application/vnd.databricks.v1+cell": {
     "cellMetadata": {},
     "inputWidgets": {},
     "nuid": "19cdbc64-556c-4de1-914a-bdb5d5f237d6",
     "showTitle": false,
     "title": ""
    }
   },
   "source": [
    "# The propused model aim to create dynamic pricing prediction"
   ]
  },
  {
   "cell_type": "markdown",
   "metadata": {
    "application/vnd.databricks.v1+cell": {
     "cellMetadata": {},
     "inputWidgets": {},
     "nuid": "c52d7296-63b1-4b89-b4a8-ea2221464fe2",
     "showTitle": false,
     "title": ""
    }
   },
   "source": [
    "## DataCleaning"
   ]
  },
  {
   "cell_type": "code",
   "execution_count": 0,
   "metadata": {
    "application/vnd.databricks.v1+cell": {
     "cellMetadata": {
      "byteLimit": 2048000,
      "rowLimit": 10000
     },
     "inputWidgets": {},
     "nuid": "b2eeb69a-ff45-4136-bfd9-2488027cef4b",
     "showTitle": false,
     "title": ""
    }
   },
   "outputs": [
    {
     "output_type": "stream",
     "name": "stdout",
     "output_type": "stream",
     "text": [
      "s_payment            0\npayment_method_id    0\nmethod_name          0\npayment_status_id    0\nstatus_name          0\nprocessing_date      0\nrecord_hash          0\ndtype: int64\n"
     ]
    }
   ],
   "source": [
    "#handling the missing values\n",
    "print(df_payment.isnull().sum())"
   ]
  },
  {
   "cell_type": "code",
   "execution_count": 0,
   "metadata": {
    "application/vnd.databricks.v1+cell": {
     "cellMetadata": {
      "byteLimit": 2048000,
      "rowLimit": 10000
     },
     "inputWidgets": {},
     "nuid": "d2fb3b44-6844-462f-962a-2e592c31e36e",
     "showTitle": false,
     "title": ""
    }
   },
   "outputs": [
    {
     "output_type": "execute_result",
     "data": {
      "text/plain": [
       "(24, 7)"
      ]
     },
     "execution_count": 7,
     "metadata": {},
     "output_type": "execute_result"
    }
   ],
   "source": [
    "df_payment.shape"
   ]
  },
  {
   "cell_type": "code",
   "execution_count": 0,
   "metadata": {
    "application/vnd.databricks.v1+cell": {
     "cellMetadata": {
      "byteLimit": 2048000,
      "rowLimit": 10000
     },
     "inputWidgets": {},
     "nuid": "4a84b60f-7522-42da-8648-b2e3b912f990",
     "showTitle": false,
     "title": ""
    }
   },
   "outputs": [],
   "source": [
    "#converting the data into the suitable format\n",
    "df_calender['full_date'] = pd.to_datetime(df_calender['full_date'], format='%Y-%m-%d')\n",
    "df_fact_request['request_datekey'] = pd.to_datetime(df_fact_request['request_datekey'], format='%Y%m%d')"
   ]
  },
  {
   "cell_type": "code",
   "execution_count": 0,
   "metadata": {
    "application/vnd.databricks.v1+cell": {
     "cellMetadata": {
      "byteLimit": 2048000,
      "rowLimit": 10000
     },
     "inputWidgets": {},
     "nuid": "c6b7d51f-f20d-403b-bdcc-24fdecc90b88",
     "showTitle": false,
     "title": ""
    }
   },
   "outputs": [],
   "source": [
    "df_payment_info = pd.merge(df_fact_request, df_payment, how='left', left_on='s_payment', right_on='s_payment')"
   ]
  },
  {
   "cell_type": "code",
   "execution_count": 0,
   "metadata": {
    "application/vnd.databricks.v1+cell": {
     "cellMetadata": {
      "byteLimit": 2048000,
      "rowLimit": 10000
     },
     "inputWidgets": {},
     "nuid": "99e80ff2-a2fd-4abb-9198-bcea1b37f5ef",
     "showTitle": false,
     "title": ""
    }
   },
   "outputs": [
    {
     "output_type": "execute_result",
     "data": {
      "text/plain": [
       "count         584875\n",
       "unique             6\n",
       "top       Debit Card\n",
       "freq           97898\n",
       "Name: method_name, dtype: object"
      ]
     },
     "execution_count": 10,
     "metadata": {},
     "output_type": "execute_result"
    }
   ],
   "source": [
    "df_payment_info[\"method_name\"].describe()"
   ]
  },
  {
   "cell_type": "code",
   "execution_count": 0,
   "metadata": {
    "application/vnd.databricks.v1+cell": {
     "cellMetadata": {
      "byteLimit": 2048000,
      "rowLimit": 10000
     },
     "inputWidgets": {},
     "nuid": "dc558c59-fbb6-4b64-b58a-8e911b2decb1",
     "showTitle": false,
     "title": ""
    }
   },
   "outputs": [
    {
     "output_type": "stream",
     "name": "stdout",
     "output_type": "stream",
     "text": [
      "driver_id                0\npassenger_id             0\npickup_location_id       0\ndropoff_location_id      0\nrequest_datekey          0\naccept_datekey           0\ntrip_start_datekey       0\ntrip_end_datekey         0\ns_payment                0\ntrip_distance            0\nbase_fare                0\nextra_fare               0\nmta_tax                  0\ntip_amount               0\ntolls_amount             0\nimprovement_surcharge    0\nrecord_hash_x            0\npayment_method_id        0\nmethod_name              0\npayment_status_id        0\nstatus_name              0\nprocessing_date          0\nrecord_hash_y            0\ndtype: int64\n"
     ]
    }
   ],
   "source": [
    "print(df_payment_info.isnull().sum())"
   ]
  },
  {
   "cell_type": "code",
   "execution_count": 0,
   "metadata": {
    "application/vnd.databricks.v1+cell": {
     "cellMetadata": {
      "byteLimit": 2048000,
      "rowLimit": 10000
     },
     "inputWidgets": {},
     "nuid": "f51aac7e-ab97-4a9f-8865-47735ed22c41",
     "showTitle": false,
     "title": ""
    }
   },
   "outputs": [
    {
     "output_type": "display_data",
     "data": {
      "image/png": "[encoded data removed]",
      "text/plain": [
       "<Figure size 800x600 with 1 Axes>"
      ]
     },
     "metadata": {},
     "output_type": "display_data"
    }
   ],
   "source": [
    "plt.figure(figsize=(8, 6))\n",
    "\n",
    "# Create the histogram with a kernel density estimate (KDE)\n",
    "ax = sns.histplot(df_payment_info['base_fare'], kde=True)\n",
    "\n",
    "# Set x-axis limits and ticks\n",
    "ax.set_xlim(1, 31)  # Limit the x-axis from 1 to 31\n",
    "ax.set_xticks(range(1, 32))  # Set the x-ticks from 1 to 31\n",
    "\n",
    "# Set the title of the plot\n",
    "plt.title('Distribution of Base Fare')\n",
    "\n",
    "# Show the plot\n",
    "plt.show()"
   ]
  },
  {
   "cell_type": "code",
   "execution_count": 0,
   "metadata": {
    "application/vnd.databricks.v1+cell": {
     "cellMetadata": {
      "byteLimit": 2048000,
      "rowLimit": 10000
     },
     "inputWidgets": {},
     "nuid": "7d1f7847-492a-4c33-9965-d4808e9158a0",
     "showTitle": false,
     "title": ""
    }
   },
   "outputs": [
    {
     "output_type": "execute_result",
     "data": {
      "text/html": [
       "<div>\n",
       "<style scoped>\n",
       "    .dataframe tbody tr th:only-of-type {\n",
       "        vertical-align: middle;\n",
       "    }\n",
       "\n",
       "    .dataframe tbody tr th {\n",
       "        vertical-align: top;\n",
       "    }\n",
       "\n",
       "    .dataframe thead th {\n",
       "        text-align: right;\n",
       "    }\n",
       "</style>\n",
       "<table border=\"1\" class=\"dataframe\">\n",
       "  <thead>\n",
       "    <tr style=\"text-align: right;\">\n",
       "      <th></th>\n",
       "      <th>user_id</th>\n",
       "      <th>full_name</th>\n",
       "      <th>email</th>\n",
       "      <th>phone_number</th>\n",
       "      <th>vehicle_id</th>\n",
       "      <th>vehicle_make</th>\n",
       "      <th>vehicle_model</th>\n",
       "      <th>vehicle_year</th>\n",
       "      <th>vehicle_color</th>\n",
       "      <th>vehicle_license_plate</th>\n",
       "      <th>processing_date</th>\n",
       "      <th>record_hash</th>\n",
       "    </tr>\n",
       "  </thead>\n",
       "  <tbody>\n",
       "    <tr>\n",
       "      <th>72944</th>\n",
       "      <td>700005</td>\n",
       "      <td>Aaron Adams</td>\n",
       "      <td>dbowen@example.net</td>\n",
       "      <td>(672) 995-6696</td>\n",
       "      <td>75956</td>\n",
       "      <td>Ford</td>\n",
       "      <td>Escape</td>\n",
       "      <td>1996</td>\n",
       "      <td>Brown</td>\n",
       "      <td>3G783</td>\n",
       "      <td>2024-10-16 13:52:25</td>\n",
       "      <td>95bcf56ae7d7d1a858c80a6bf5790a4e21fdefcf178093...</td>\n",
       "    </tr>\n",
       "    <tr>\n",
       "      <th>72945</th>\n",
       "      <td>700009</td>\n",
       "      <td>Aaron Adkins</td>\n",
       "      <td>jchan@example.com</td>\n",
       "      <td>(959) 936-7702</td>\n",
       "      <td>194019</td>\n",
       "      <td>Kia</td>\n",
       "      <td>Optima</td>\n",
       "      <td>2005</td>\n",
       "      <td>Blue</td>\n",
       "      <td>VJP4675</td>\n",
       "      <td>2024-10-16 13:52:25</td>\n",
       "      <td>64243d430f017b27b3497ea0cd2129730ccdbe1447817f...</td>\n",
       "    </tr>\n",
       "    <tr>\n",
       "      <th>72946</th>\n",
       "      <td>700018</td>\n",
       "      <td>Aaron Ali</td>\n",
       "      <td>zhughes@example.com</td>\n",
       "      <td>(614) 514-6952</td>\n",
       "      <td>348707</td>\n",
       "      <td>Volkswagen</td>\n",
       "      <td>Golf</td>\n",
       "      <td>2016</td>\n",
       "      <td>Yellow</td>\n",
       "      <td>3PL6905</td>\n",
       "      <td>2024-10-16 13:52:25</td>\n",
       "      <td>b33857b64a5b8b5343f1e1a3e00fd12d0a72de350b7883...</td>\n",
       "    </tr>\n",
       "    <tr>\n",
       "      <th>72947</th>\n",
       "      <td>700030</td>\n",
       "      <td>Aaron Anderson</td>\n",
       "      <td>amedina@example.com</td>\n",
       "      <td>(978) 122-8849</td>\n",
       "      <td>91393</td>\n",
       "      <td>Ford</td>\n",
       "      <td>F-150</td>\n",
       "      <td>1991</td>\n",
       "      <td>Gray</td>\n",
       "      <td>82-10322</td>\n",
       "      <td>2024-10-16 13:52:25</td>\n",
       "      <td>a3e91d7b8549f8cdf35e437878bd7b5b4495ab1dd2bc55...</td>\n",
       "    </tr>\n",
       "    <tr>\n",
       "      <th>72948</th>\n",
       "      <td>700034</td>\n",
       "      <td>Aaron Anderson</td>\n",
       "      <td>tmerritt@example.com</td>\n",
       "      <td>(794) 577-2841</td>\n",
       "      <td>220367</td>\n",
       "      <td>Kia</td>\n",
       "      <td>Sportage</td>\n",
       "      <td>2003</td>\n",
       "      <td>Silver</td>\n",
       "      <td>14GC999</td>\n",
       "      <td>2024-10-16 13:52:25</td>\n",
       "      <td>d75088f1ecee9356d897f1d90332a76119765476386900...</td>\n",
       "    </tr>\n",
       "  </tbody>\n",
       "</table>\n",
       "</div>"
      ],
      "text/plain": [
       "       user_id  ...                                        record_hash\n",
       "72944   700005  ...  95bcf56ae7d7d1a858c80a6bf5790a4e21fdefcf178093...\n",
       "72945   700009  ...  64243d430f017b27b3497ea0cd2129730ccdbe1447817f...\n",
       "72946   700018  ...  b33857b64a5b8b5343f1e1a3e00fd12d0a72de350b7883...\n",
       "72947   700030  ...  a3e91d7b8549f8cdf35e437878bd7b5b4495ab1dd2bc55...\n",
       "72948   700034  ...  d75088f1ecee9356d897f1d90332a76119765476386900...\n",
       "\n",
       "[5 rows x 12 columns]"
      ]
     },
     "execution_count": 12,
     "metadata": {},
     "output_type": "execute_result"
    }
   ],
   "source": [
    "driver_data = df_user[df_user['vehicle_model'] != 'Passenger']\n",
    "driver_data.head()"
   ]
  },
  {
   "cell_type": "code",
   "execution_count": 0,
   "metadata": {
    "application/vnd.databricks.v1+cell": {
     "cellMetadata": {
      "byteLimit": 2048000,
      "rowLimit": 10000
     },
     "inputWidgets": {},
     "nuid": "7ed09f8c-3171-4b45-a2cf-30725205fbe6",
     "showTitle": false,
     "title": ""
    }
   },
   "outputs": [
    {
     "output_type": "execute_result",
     "data": {
      "text/plain": [
       "0"
      ]
     },
     "execution_count": 13,
     "metadata": {},
     "output_type": "execute_result"
    }
   ],
   "source": [
    "data = pd.merge(df_fact_request, driver_data, how='left', left_on='driver_id', right_on='user_id')\n",
    "data[\"vehicle_make\"].isnull().sum()"
   ]
  },
  {
   "cell_type": "markdown",
   "metadata": {
    "application/vnd.databricks.v1+cell": {
     "cellMetadata": {},
     "inputWidgets": {},
     "nuid": "1819f5e8-882f-4db7-8bc5-25f77a65378f",
     "showTitle": false,
     "title": ""
    }
   },
   "source": [
    "## Train-Split-Data"
   ]
  },
  {
   "cell_type": "code",
   "execution_count": 0,
   "metadata": {
    "application/vnd.databricks.v1+cell": {
     "cellMetadata": {
      "byteLimit": 2048000,
      "rowLimit": 10000
     },
     "inputWidgets": {},
     "nuid": "30d749ca-fbaf-4e2f-883d-a739b9648aba",
     "showTitle": false,
     "title": ""
    }
   },
   "outputs": [],
   "source": [
    "# Example: Removing data points that are more than 3 standard deviations away from the mean\n",
    "z_scores = np.abs(stats.zscore(data[['trip_distance', 'base_fare']]))\n",
    "data = data[(z_scores < 3)]"
   ]
  },
  {
   "cell_type": "code",
   "execution_count": 0,
   "metadata": {
    "application/vnd.databricks.v1+cell": {
     "cellMetadata": {
      "byteLimit": 2048000,
      "rowLimit": 10000
     },
     "inputWidgets": {},
     "nuid": "a3136e2c-a610-4aab-906a-2518582cdbcb",
     "showTitle": false,
     "title": ""
    }
   },
   "outputs": [],
   "source": [
    "X = data[[\"trip_distance\"]]\n",
    "y = data['base_fare']"
   ]
  },
  {
   "cell_type": "code",
   "execution_count": 0,
   "metadata": {
    "application/vnd.databricks.v1+cell": {
     "cellMetadata": {
      "byteLimit": 2048000,
      "rowLimit": 10000
     },
     "inputWidgets": {},
     "nuid": "751e4322-3c56-4038-a273-6352bb85f2a0",
     "showTitle": false,
     "title": ""
    }
   },
   "outputs": [],
   "source": [
    "X_train, X_test, y_train, y_test = train_test_split(X, y, test_size=0.2, random_state=42)"
   ]
  },
  {
   "cell_type": "code",
   "execution_count": 0,
   "metadata": {
    "application/vnd.databricks.v1+cell": {
     "cellMetadata": {
      "byteLimit": 2048000,
      "rowLimit": 10000
     },
     "inputWidgets": {},
     "nuid": "294a1af1-48f1-43aa-bc1b-3eab17d6a38d",
     "showTitle": false,
     "title": ""
    }
   },
   "outputs": [
    {
     "output_type": "execute_result",
     "data": {
      "text/plain": [
       "(467900, 1)"
      ]
     },
     "execution_count": 17,
     "metadata": {},
     "output_type": "execute_result"
    }
   ],
   "source": [
    "X_train.shape"
   ]
  },
  {
   "cell_type": "code",
   "execution_count": 0,
   "metadata": {
    "application/vnd.databricks.v1+cell": {
     "cellMetadata": {
      "byteLimit": 2048000,
      "rowLimit": 10000
     },
     "inputWidgets": {},
     "nuid": "5d8f9562-310d-439e-a1b8-3b954385d93c",
     "showTitle": false,
     "title": ""
    }
   },
   "outputs": [
    {
     "output_type": "execute_result",
     "data": {
      "text/plain": [
       "(584875, 29)"
      ]
     },
     "execution_count": 18,
     "metadata": {},
     "output_type": "execute_result"
    }
   ],
   "source": [
    "data.shape"
   ]
  },
  {
   "cell_type": "code",
   "execution_count": 0,
   "metadata": {
    "application/vnd.databricks.v1+cell": {
     "cellMetadata": {
      "byteLimit": 2048000,
      "rowLimit": 10000
     },
     "inputWidgets": {},
     "nuid": "054f594f-d96d-445b-8028-5925600aefa1",
     "showTitle": false,
     "title": ""
    }
   },
   "outputs": [
    {
     "output_type": "execute_result",
     "data": {
      "text/plain": [
       "(467900,)"
      ]
     },
     "execution_count": 19,
     "metadata": {},
     "output_type": "execute_result"
    }
   ],
   "source": [
    "y_train.shape"
   ]
  },
  {
   "cell_type": "code",
   "execution_count": 0,
   "metadata": {
    "application/vnd.databricks.v1+cell": {
     "cellMetadata": {
      "byteLimit": 2048000,
      "rowLimit": 10000
     },
     "inputWidgets": {},
     "nuid": "430a2398-0231-45ce-8bcf-a7aba4265199",
     "showTitle": false,
     "title": ""
    }
   },
   "outputs": [
    {
     "output_type": "execute_result",
     "data": {
      "text/plain": [
       "116975"
      ]
     },
     "execution_count": 20,
     "metadata": {},
     "output_type": "execute_result"
    }
   ],
   "source": [
    "y_test.isnull().count()"
   ]
  },
  {
   "cell_type": "code",
   "execution_count": 0,
   "metadata": {
    "application/vnd.databricks.v1+cell": {
     "cellMetadata": {
      "byteLimit": 2048000,
      "rowLimit": 10000
     },
     "inputWidgets": {},
     "nuid": "f18d34de-c0cf-4682-9ac5-0d7b06436c0a",
     "showTitle": false,
     "title": ""
    }
   },
   "outputs": [],
   "source": [
    "X_train = X_train.fillna(X_train.mean())\n",
    "y_train = y_train.fillna(y_train.mean())\n",
    "\n",
    "# Impute missing values in the testing set\n",
    "X_test = X_test.fillna(X_test.mean())\n",
    "y_test = y_test.fillna(y_test.mean())"
   ]
  },
  {
   "cell_type": "code",
   "execution_count": 0,
   "metadata": {
    "application/vnd.databricks.v1+cell": {
     "cellMetadata": {
      "byteLimit": 2048000,
      "rowLimit": 10000
     },
     "inputWidgets": {},
     "nuid": "41710a1f-c1c8-472a-9e57-28a64741330d",
     "showTitle": false,
     "title": ""
    }
   },
   "outputs": [
    {
     "output_type": "execute_result",
     "data": {
      "text/html": [
       "<style>#sk-container-id-1 {color: black;background-color: white;}#sk-container-id-1 pre{padding: 0;}#sk-container-id-1 div.sk-toggleable {background-color: white;}#sk-container-id-1 label.sk-toggleable__label {cursor: pointer;display: block;width: 100%;margin-bottom: 0;padding: 0.3em;box-sizing: border-box;text-align: center;}#sk-container-id-1 label.sk-toggleable__label-arrow:before {content: \"▸\";float: left;margin-right: 0.25em;color: #696969;}#sk-container-id-1 label.sk-toggleable__label-arrow:hover:before {color: black;}#sk-container-id-1 div.sk-estimator:hover label.sk-toggleable__label-arrow:before {color: black;}#sk-container-id-1 div.sk-toggleable__content {max-height: 0;max-width: 0;overflow: hidden;text-align: left;background-color: #f0f8ff;}#sk-container-id-1 div.sk-toggleable__content pre {margin: 0.2em;color: black;border-radius: 0.25em;background-color: #f0f8ff;}#sk-container-id-1 input.sk-toggleable__control:checked~div.sk-toggleable__content {max-height: 200px;max-width: 100%;overflow: auto;}#sk-container-id-1 input.sk-toggleable__control:checked~label.sk-toggleable__label-arrow:before {content: \"▾\";}#sk-container-id-1 div.sk-estimator input.sk-toggleable__control:checked~label.sk-toggleable__label {background-color: #d4ebff;}#sk-container-id-1 div.sk-label input.sk-toggleable__control:checked~label.sk-toggleable__label {background-color: #d4ebff;}#sk-container-id-1 input.sk-hidden--visually {border: 0;clip: rect(1px 1px 1px 1px);clip: rect(1px, 1px, 1px, 1px);height: 1px;margin: -1px;overflow: hidden;padding: 0;position: absolute;width: 1px;}#sk-container-id-1 div.sk-estimator {font-family: monospace;background-color: #f0f8ff;border: 1px dotted black;border-radius: 0.25em;box-sizing: border-box;margin-bottom: 0.5em;}#sk-container-id-1 div.sk-estimator:hover {background-color: #d4ebff;}#sk-container-id-1 div.sk-parallel-item::after {content: \"\";width: 100%;border-bottom: 1px solid gray;flex-grow: 1;}#sk-container-id-1 div.sk-label:hover label.sk-toggleable__label {background-color: #d4ebff;}#sk-container-id-1 div.sk-serial::before {content: \"\";position: absolute;border-left: 1px solid gray;box-sizing: border-box;top: 0;bottom: 0;left: 50%;z-index: 0;}#sk-container-id-1 div.sk-serial {display: flex;flex-direction: column;align-items: center;background-color: white;padding-right: 0.2em;padding-left: 0.2em;position: relative;}#sk-container-id-1 div.sk-item {position: relative;z-index: 1;}#sk-container-id-1 div.sk-parallel {display: flex;align-items: stretch;justify-content: center;background-color: white;position: relative;}#sk-container-id-1 div.sk-item::before, #sk-container-id-1 div.sk-parallel-item::before {content: \"\";position: absolute;border-left: 1px solid gray;box-sizing: border-box;top: 0;bottom: 0;left: 50%;z-index: -1;}#sk-container-id-1 div.sk-parallel-item {display: flex;flex-direction: column;z-index: 1;position: relative;background-color: white;}#sk-container-id-1 div.sk-parallel-item:first-child::after {align-self: flex-end;width: 50%;}#sk-container-id-1 div.sk-parallel-item:last-child::after {align-self: flex-start;width: 50%;}#sk-container-id-1 div.sk-parallel-item:only-child::after {width: 0;}#sk-container-id-1 div.sk-dashed-wrapped {border: 1px dashed gray;margin: 0 0.4em 0.5em 0.4em;box-sizing: border-box;padding-bottom: 0.4em;background-color: white;}#sk-container-id-1 div.sk-label label {font-family: monospace;font-weight: bold;display: inline-block;line-height: 1.2em;}#sk-container-id-1 div.sk-label-container {text-align: center;}#sk-container-id-1 div.sk-container {/* jupyter's `normalize.less` sets `[hidden] { display: none; }` but bootstrap.min.css set `[hidden] { display: none !important; }` so we also need the `!important` here to be able to override the default hidden behavior on the sphinx rendered scikit-learn.org. See: https://github.com/scikit-learn/scikit-learn/issues/21755 */display: inline-block !important;position: relative;}#sk-container-id-1 div.sk-text-repr-fallback {display: none;}</style><div id=\"sk-container-id-1\" class=\"sk-top-container\"><div class=\"sk-text-repr-fallback\"><pre>LinearRegression()</pre><b>In a Jupyter environment, please rerun this cell to show the HTML representation or trust the notebook. <br />On GitHub, the HTML representation is unable to render, please try loading this page with nbviewer.org.</b></div><div class=\"sk-container\" hidden><div class=\"sk-item\"><div class=\"sk-estimator sk-toggleable\"><input class=\"sk-toggleable__control sk-hidden--visually\" id=\"sk-estimator-id-1\" type=\"checkbox\" checked><label for=\"sk-estimator-id-1\" class=\"sk-toggleable__label sk-toggleable__label-arrow\">LinearRegression</label><div class=\"sk-toggleable__content\"><pre>LinearRegression()</pre></div></div></div></div></div>"
      ],
      "text/plain": [
       "LinearRegression()"
      ]
     },
     "execution_count": 22,
     "metadata": {},
     "output_type": "execute_result"
    }
   ],
   "source": [
    "model = LinearRegression()\n",
    "model.fit(X_train, y_train)"
   ]
  },
  {
   "cell_type": "code",
   "execution_count": 0,
   "metadata": {
    "application/vnd.databricks.v1+cell": {
     "cellMetadata": {
      "byteLimit": 2048000,
      "rowLimit": 10000
     },
     "inputWidgets": {},
     "nuid": "22721e82-6767-4331-8d1d-d511b61b40a2",
     "showTitle": false,
     "title": ""
    }
   },
   "outputs": [],
   "source": [
    "base_fare_pred = model.predict(X_test)"
   ]
  },
  {
   "cell_type": "code",
   "execution_count": 0,
   "metadata": {
    "application/vnd.databricks.v1+cell": {
     "cellMetadata": {
      "byteLimit": 2048000,
      "rowLimit": 10000
     },
     "inputWidgets": {},
     "nuid": "46c10c45-1490-4ef3-9865-aea6096afdd2",
     "showTitle": false,
     "title": ""
    }
   },
   "outputs": [
    {
     "output_type": "stream",
     "name": "stdout",
     "output_type": "stream",
     "text": [
      "Root Mean Squared Error: 5.077542201133626\n         Feature  Coefficient\n0  trip_distance     1.206235\n"
     ]
    }
   ],
   "source": [
    "# Calculate performance metrics\n",
    "mse = mean_squared_error(y_test, base_fare_pred)\n",
    "rmse = mse ** 0.5\n",
    "\n",
    "print(f'Root Mean Squared Error: {rmse}')\n",
    "\n",
    "# Optional: Check model coefficients\n",
    "coefficients = pd.DataFrame({'Feature': X_train.columns, 'Coefficient': model.coef_})\n",
    "print(coefficients)"
   ]
  },
  {
   "cell_type": "code",
   "execution_count": 0,
   "metadata": {
    "application/vnd.databricks.v1+cell": {
     "cellMetadata": {
      "byteLimit": 2048000,
      "rowLimit": 10000
     },
     "inputWidgets": {},
     "nuid": "18fbb536-f915-45b4-bc43-3a06c9cce42e",
     "showTitle": false,
     "title": ""
    }
   },
   "outputs": [
    {
     "output_type": "execute_result",
     "data": {
      "text/plain": [
       "Decimal('181.40')"
      ]
     },
     "execution_count": 25,
     "metadata": {},
     "output_type": "execute_result"
    }
   ],
   "source": [
    "data[\"trip_distance\"].max()"
   ]
  },
  {
   "cell_type": "code",
   "execution_count": 0,
   "metadata": {
    "application/vnd.databricks.v1+cell": {
     "cellMetadata": {
      "byteLimit": 2048000,
      "rowLimit": 10000
     },
     "inputWidgets": {},
     "nuid": "cdfce1f6-6473-49d1-b3b5-72a1695027ff",
     "showTitle": false,
     "title": ""
    }
   },
   "outputs": [
    {
     "output_type": "execute_result",
     "data": {
      "text/plain": [
       "Decimal('0.00')"
      ]
     },
     "execution_count": 26,
     "metadata": {},
     "output_type": "execute_result"
    }
   ],
   "source": [
    "data[\"trip_distance\"].min()"
   ]
  },
  {
   "cell_type": "code",
   "execution_count": 0,
   "metadata": {
    "application/vnd.databricks.v1+cell": {
     "cellMetadata": {
      "byteLimit": 2048000,
      "rowLimit": 10000
     },
     "inputWidgets": {},
     "nuid": "ebec9d4e-2031-495b-99aa-14b2336065d6",
     "showTitle": false,
     "title": ""
    }
   },
   "outputs": [
    {
     "output_type": "execute_result",
     "data": {
      "text/plain": [
       "Decimal('-16.30')"
      ]
     },
     "execution_count": 27,
     "metadata": {},
     "output_type": "execute_result"
    }
   ],
   "source": [
    "data[\"base_fare\"].min()"
   ]
  },
  {
   "cell_type": "code",
   "execution_count": 0,
   "metadata": {
    "application/vnd.databricks.v1+cell": {
     "cellMetadata": {
      "byteLimit": 2048000,
      "rowLimit": 10000
     },
     "inputWidgets": {},
     "nuid": "c55c14dc-593d-4629-9aad-14777d9f56fa",
     "showTitle": false,
     "title": ""
    }
   },
   "outputs": [
    {
     "output_type": "execute_result",
     "data": {
      "text/plain": [
       "Decimal('42.20')"
      ]
     },
     "execution_count": 28,
     "metadata": {},
     "output_type": "execute_result"
    }
   ],
   "source": [
    "data[\"base_fare\"].max()"
   ]
  },
  {
   "cell_type": "code",
   "execution_count": 0,
   "metadata": {
    "application/vnd.databricks.v1+cell": {
     "cellMetadata": {
      "byteLimit": 2048000,
      "rowLimit": 10000
     },
     "inputWidgets": {},
     "nuid": "eda4179d-baa4-4fa4-994a-d362151847bd",
     "showTitle": false,
     "title": ""
    }
   },
   "outputs": [],
   "source": [
    "import pickle"
   ]
  },
  {
   "cell_type": "code",
   "execution_count": 0,
   "metadata": {
    "application/vnd.databricks.v1+cell": {
     "cellMetadata": {
      "byteLimit": 2048000,
      "rowLimit": 10000
     },
     "inputWidgets": {},
     "nuid": "bd378370-6eec-46bc-ac52-8c18fd991e89",
     "showTitle": false,
     "title": ""
    }
   },
   "outputs": [],
   "source": [
    "pickle.dump(model, open(\"model.pkl\", \"wb\"))"
   ]
  },
  {
   "cell_type": "code",
   "execution_count": 0,
   "metadata": {
    "application/vnd.databricks.v1+cell": {
     "cellMetadata": {},
     "inputWidgets": {},
     "nuid": "f0451cad-bc2a-42e1-81e3-fbe175e2bef2",
     "showTitle": false,
     "title": ""
    }
   },
   "outputs": [],
   "source": []
  }
 ],
 "metadata": {
  "application/vnd.databricks.v1+notebook": {
   "dashboards": [],
   "environmentMetadata": null,
   "language": "python",
   "notebookMetadata": {
    "pythonIndentUnit": 4
   },
   "notebookName": "ml-to-deploy",
   "widgets": {}
  }
 },
 "nbformat": 4,
 "nbformat_minor": 0
}
