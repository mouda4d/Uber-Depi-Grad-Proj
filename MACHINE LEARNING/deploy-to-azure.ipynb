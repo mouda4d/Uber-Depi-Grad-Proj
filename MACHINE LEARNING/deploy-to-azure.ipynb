{
 "cells": [
  {
   "cell_type": "code",
   "execution_count": 0,
   "metadata": {
    "application/vnd.databricks.v1+cell": {
     "cellMetadata": {
      "byteLimit": 2048000,
      "rowLimit": 10000
     },
     "inputWidgets": {},
     "nuid": "f8afa442-3779-4740-b64b-9c5e270af823",
     "showTitle": false,
     "title": ""
    }
   },
   "outputs": [
    {
     "output_type": "stream",
     "name": "stdout",
     "output_type": "stream",
     "text": [
      "\u001B[43mNote: you may need to restart the kernel using dbutils.library.restartPython() to use updated packages.\u001B[0m\nRequirement already satisfied: azureml-sdk in /local_disk0/.ephemeral_nfs/envs/pythonEnv-d6f03ca8-6718-41cd-a9e0-6a2764735a4d/lib/python3.10/site-packages (1.58.0)\nRequirement already satisfied: azureml-train-core~=1.58.0 in /local_disk0/.ephemeral_nfs/envs/pythonEnv-d6f03ca8-6718-41cd-a9e0-6a2764735a4d/lib/python3.10/site-packages (from azureml-sdk) (1.58.0)\nRequirement already satisfied: azureml-dataset-runtime[fuse]~=1.58.0 in /local_disk0/.ephemeral_nfs/envs/pythonEnv-d6f03ca8-6718-41cd-a9e0-6a2764735a4d/lib/python3.10/site-packages (from azureml-sdk) (1.58.0)\nRequirement already satisfied: azureml-train-automl-client~=1.58.0 in /local_disk0/.ephemeral_nfs/envs/pythonEnv-d6f03ca8-6718-41cd-a9e0-6a2764735a4d/lib/python3.10/site-packages (from azureml-sdk) (1.58.0)\nRequirement already satisfied: azureml-core~=1.58.0 in /local_disk0/.ephemeral_nfs/envs/pythonEnv-d6f03ca8-6718-41cd-a9e0-6a2764735a4d/lib/python3.10/site-packages (from azureml-sdk) (1.58.0)\nRequirement already satisfied: azureml-pipeline~=1.58.0 in /local_disk0/.ephemeral_nfs/envs/pythonEnv-d6f03ca8-6718-41cd-a9e0-6a2764735a4d/lib/python3.10/site-packages (from azureml-sdk) (1.58.0)\nRequirement already satisfied: PyJWT<3.0.0 in /usr/lib/python3/dist-packages (from azureml-core~=1.58.0->azureml-sdk) (2.3.0)\nRequirement already satisfied: azure-mgmt-storage<=22.0.0,>=16.0.0 in /local_disk0/.ephemeral_nfs/envs/pythonEnv-d6f03ca8-6718-41cd-a9e0-6a2764735a4d/lib/python3.10/site-packages (from azureml-core~=1.58.0->azureml-sdk) (21.2.1)\nRequirement already satisfied: azure-common<2.0.0,>=1.1.12 in /local_disk0/.ephemeral_nfs/envs/pythonEnv-d6f03ca8-6718-41cd-a9e0-6a2764735a4d/lib/python3.10/site-packages (from azureml-core~=1.58.0->azureml-sdk) (1.1.28)\nRequirement already satisfied: docker<8.0.0 in /local_disk0/.ephemeral_nfs/envs/pythonEnv-d6f03ca8-6718-41cd-a9e0-6a2764735a4d/lib/python3.10/site-packages (from azureml-core~=1.58.0->azureml-sdk) (7.1.0)\nRequirement already satisfied: ndg-httpsclient<=0.5.1 in /local_disk0/.ephemeral_nfs/envs/pythonEnv-d6f03ca8-6718-41cd-a9e0-6a2764735a4d/lib/python3.10/site-packages (from azureml-core~=1.58.0->azureml-sdk) (0.5.1)\nRequirement already satisfied: jsonpickle<4.0.0 in /local_disk0/.ephemeral_nfs/envs/pythonEnv-d6f03ca8-6718-41cd-a9e0-6a2764735a4d/lib/python3.10/site-packages (from azureml-core~=1.58.0->azureml-sdk) (3.3.0)\nRequirement already satisfied: azure-graphrbac<1.0.0,>=0.40.0 in /local_disk0/.ephemeral_nfs/envs/pythonEnv-d6f03ca8-6718-41cd-a9e0-6a2764735a4d/lib/python3.10/site-packages (from azureml-core~=1.58.0->azureml-sdk) (0.61.1)\nRequirement already satisfied: msal<2.0.0,>=1.15.0 in /local_disk0/.ephemeral_nfs/envs/pythonEnv-d6f03ca8-6718-41cd-a9e0-6a2764735a4d/lib/python3.10/site-packages (from azureml-core~=1.58.0->azureml-sdk) (1.31.0)\nRequirement already satisfied: knack<0.13.0 in /local_disk0/.ephemeral_nfs/envs/pythonEnv-d6f03ca8-6718-41cd-a9e0-6a2764735a4d/lib/python3.10/site-packages (from azureml-core~=1.58.0->azureml-sdk) (0.12.0)\nRequirement already satisfied: requests[socks]<3.0.0,>=2.19.1 in /databricks/python3/lib/python3.10/site-packages (from azureml-core~=1.58.0->azureml-sdk) (2.28.1)\nRequirement already satisfied: urllib3<3.0.0,>1.26.17 in /local_disk0/.ephemeral_nfs/envs/pythonEnv-d6f03ca8-6718-41cd-a9e0-6a2764735a4d/lib/python3.10/site-packages (from azureml-core~=1.58.0->azureml-sdk) (1.26.20)\nRequirement already satisfied: pytz in /databricks/python3/lib/python3.10/site-packages (from azureml-core~=1.58.0->azureml-sdk) (2022.7)\nRequirement already satisfied: azure-core<2.0.0 in /local_disk0/.ephemeral_nfs/envs/pythonEnv-d6f03ca8-6718-41cd-a9e0-6a2764735a4d/lib/python3.10/site-packages (from azureml-core~=1.58.0->azureml-sdk) (1.31.0)\nRequirement already satisfied: adal<=1.2.7,>=1.2.0 in /local_disk0/.ephemeral_nfs/envs/pythonEnv-d6f03ca8-6718-41cd-a9e0-6a2764735a4d/lib/python3.10/site-packages (from azureml-core~=1.58.0->azureml-sdk) (1.2.7)\nRequirement already satisfied: pkginfo in /local_disk0/.ephemeral_nfs/envs/pythonEnv-d6f03ca8-6718-41cd-a9e0-6a2764735a4d/lib/python3.10/site-packages (from azureml-core~=1.58.0->azureml-sdk) (1.11.2)\nRequirement already satisfied: msrestazure<=0.7,>=0.4.33 in /local_disk0/.ephemeral_nfs/envs/pythonEnv-d6f03ca8-6718-41cd-a9e0-6a2764735a4d/lib/python3.10/site-packages (from azureml-core~=1.58.0->azureml-sdk) (0.6.4.post1)\nRequirement already satisfied: argcomplete<4 in /local_disk0/.ephemeral_nfs/envs/pythonEnv-d6f03ca8-6718-41cd-a9e0-6a2764735a4d/lib/python3.10/site-packages (from azureml-core~=1.58.0->azureml-sdk) (3.5.1)\nRequirement already satisfied: pathspec<1.0.0 in /databricks/python3/lib/python3.10/site-packages (from azureml-core~=1.58.0->azureml-sdk) (0.10.3)\nRequirement already satisfied: msrest<=0.7.1,>=0.5.1 in /local_disk0/.ephemeral_nfs/envs/pythonEnv-d6f03ca8-6718-41cd-a9e0-6a2764735a4d/lib/python3.10/site-packages (from azureml-core~=1.58.0->azureml-sdk) (0.7.1)\nRequirement already satisfied: azure-mgmt-resource<=24.0.0,>=15.0.0 in /local_disk0/.ephemeral_nfs/envs/pythonEnv-d6f03ca8-6718-41cd-a9e0-6a2764735a4d/lib/python3.10/site-packages (from azureml-core~=1.58.0->azureml-sdk) (23.1.1)\nRequirement already satisfied: azure-mgmt-network<=28.0.0 in /local_disk0/.ephemeral_nfs/envs/pythonEnv-d6f03ca8-6718-41cd-a9e0-6a2764735a4d/lib/python3.10/site-packages (from azureml-core~=1.58.0->azureml-sdk) (27.0.0)\nRequirement already satisfied: msal-extensions<=2.0.0,>=0.3.0 in /local_disk0/.ephemeral_nfs/envs/pythonEnv-d6f03ca8-6718-41cd-a9e0-6a2764735a4d/lib/python3.10/site-packages (from azureml-core~=1.58.0->azureml-sdk) (1.2.0)\nRequirement already satisfied: python-dateutil<3.0.0,>=2.7.3 in /databricks/python3/lib/python3.10/site-packages (from azureml-core~=1.58.0->azureml-sdk) (2.8.2)\nRequirement already satisfied: jmespath<2.0.0 in /databricks/python3/lib/python3.10/site-packages (from azureml-core~=1.58.0->azureml-sdk) (0.10.0)\nRequirement already satisfied: SecretStorage<4.0.0 in /usr/lib/python3/dist-packages (from azureml-core~=1.58.0->azureml-sdk) (3.3.1)\nRequirement already satisfied: packaging<=25.0,>=20.0 in /databricks/python3/lib/python3.10/site-packages (from azureml-core~=1.58.0->azureml-sdk) (23.2)\nRequirement already satisfied: humanfriendly<11.0,>=4.7 in /local_disk0/.ephemeral_nfs/envs/pythonEnv-d6f03ca8-6718-41cd-a9e0-6a2764735a4d/lib/python3.10/site-packages (from azureml-core~=1.58.0->azureml-sdk) (10.0)\nRequirement already satisfied: backports.tempfile in /local_disk0/.ephemeral_nfs/envs/pythonEnv-d6f03ca8-6718-41cd-a9e0-6a2764735a4d/lib/python3.10/site-packages (from azureml-core~=1.58.0->azureml-sdk) (1.0)\nRequirement already satisfied: azure-mgmt-keyvault<11.0.0,>=0.40.0 in /local_disk0/.ephemeral_nfs/envs/pythonEnv-d6f03ca8-6718-41cd-a9e0-6a2764735a4d/lib/python3.10/site-packages (from azureml-core~=1.58.0->azureml-sdk) (10.3.1)\nRequirement already satisfied: azure-mgmt-authorization<5,>=0.40.0 in /local_disk0/.ephemeral_nfs/envs/pythonEnv-d6f03ca8-6718-41cd-a9e0-6a2764735a4d/lib/python3.10/site-packages (from azureml-core~=1.58.0->azureml-sdk) (4.0.0)\nRequirement already satisfied: contextlib2<22.0.0 in /local_disk0/.ephemeral_nfs/envs/pythonEnv-d6f03ca8-6718-41cd-a9e0-6a2764735a4d/lib/python3.10/site-packages (from azureml-core~=1.58.0->azureml-sdk) (21.6.0)\nRequirement already satisfied: azure-mgmt-containerregistry<11,>=8.2.0 in /local_disk0/.ephemeral_nfs/envs/pythonEnv-d6f03ca8-6718-41cd-a9e0-6a2764735a4d/lib/python3.10/site-packages (from azureml-core~=1.58.0->azureml-sdk) (10.3.0)\nRequirement already satisfied: paramiko<4.0.0,>=2.0.8 in /local_disk0/.ephemeral_nfs/envs/pythonEnv-d6f03ca8-6718-41cd-a9e0-6a2764735a4d/lib/python3.10/site-packages (from azureml-core~=1.58.0->azureml-sdk) (3.5.0)\nRequirement already satisfied: pyopenssl<25.0.0 in /local_disk0/.ephemeral_nfs/envs/pythonEnv-d6f03ca8-6718-41cd-a9e0-6a2764735a4d/lib/python3.10/site-packages (from azureml-core~=1.58.0->azureml-sdk) (24.2.1)\nRequirement already satisfied: numpy!=1.19.3,<1.24 in /databricks/python3/lib/python3.10/site-packages (from azureml-dataset-runtime[fuse]~=1.58.0->azureml-sdk) (1.23.5)\nRequirement already satisfied: azureml-dataprep<5.2.0a,>=5.1.0a in /local_disk0/.ephemeral_nfs/envs/pythonEnv-d6f03ca8-6718-41cd-a9e0-6a2764735a4d/lib/python3.10/site-packages (from azureml-dataset-runtime[fuse]~=1.58.0->azureml-sdk) (5.1.6)\nRequirement already satisfied: pyarrow>=0.17.0 in /databricks/python3/lib/python3.10/site-packages (from azureml-dataset-runtime[fuse]~=1.58.0->azureml-sdk) (8.0.0)\nRequirement already satisfied: fusepy<4.0.0,>=3.0.1 in /local_disk0/.ephemeral_nfs/envs/pythonEnv-d6f03ca8-6718-41cd-a9e0-6a2764735a4d/lib/python3.10/site-packages (from azureml-dataset-runtime[fuse]~=1.58.0->azureml-sdk) (3.0.1)\nRequirement already satisfied: azureml-pipeline-steps~=1.58.0 in /local_disk0/.ephemeral_nfs/envs/pythonEnv-d6f03ca8-6718-41cd-a9e0-6a2764735a4d/lib/python3.10/site-packages (from azureml-pipeline~=1.58.0->azureml-sdk) (1.58.0)\nRequirement already satisfied: azureml-pipeline-core~=1.58.0 in /local_disk0/.ephemeral_nfs/envs/pythonEnv-d6f03ca8-6718-41cd-a9e0-6a2764735a4d/lib/python3.10/site-packages (from azureml-pipeline~=1.58.0->azureml-sdk) (1.58.0)\nRequirement already satisfied: azureml-automl-core~=1.58.0 in /local_disk0/.ephemeral_nfs/envs/pythonEnv-d6f03ca8-6718-41cd-a9e0-6a2764735a4d/lib/python3.10/site-packages (from azureml-train-automl-client~=1.58.0->azureml-sdk) (1.58.0)\nRequirement already satisfied: azureml-telemetry~=1.58.0 in /local_disk0/.ephemeral_nfs/envs/pythonEnv-d6f03ca8-6718-41cd-a9e0-6a2764735a4d/lib/python3.10/site-packages (from azureml-train-automl-client~=1.58.0->azureml-sdk) (1.58.0)\nRequirement already satisfied: azureml-train-restclients-hyperdrive~=1.58.0 in /local_disk0/.ephemeral_nfs/envs/pythonEnv-d6f03ca8-6718-41cd-a9e0-6a2764735a4d/lib/python3.10/site-packages (from azureml-train-core~=1.58.0->azureml-sdk) (1.58.0)\nRequirement already satisfied: cryptography>=1.1.0 in /local_disk0/.ephemeral_nfs/envs/pythonEnv-d6f03ca8-6718-41cd-a9e0-6a2764735a4d/lib/python3.10/site-packages (from adal<=1.2.7,>=1.2.0->azureml-core~=1.58.0->azureml-sdk) (43.0.1)\nRequirement already satisfied: six>=1.11.0 in /usr/lib/python3/dist-packages (from azure-core<2.0.0->azureml-core~=1.58.0->azureml-sdk) (1.16.0)\nRequirement already satisfied: typing-extensions>=4.6.0 in /local_disk0/.ephemeral_nfs/envs/pythonEnv-d6f03ca8-6718-41cd-a9e0-6a2764735a4d/lib/python3.10/site-packages (from azure-core<2.0.0->azureml-core~=1.58.0->azureml-sdk) (4.12.2)\nRequirement already satisfied: azure-mgmt-core<2.0.0,>=1.3.2 in /local_disk0/.ephemeral_nfs/envs/pythonEnv-d6f03ca8-6718-41cd-a9e0-6a2764735a4d/lib/python3.10/site-packages (from azure-mgmt-authorization<5,>=0.40.0->azureml-core~=1.58.0->azureml-sdk) (1.4.0)\nRequirement already satisfied: isodate<1.0.0,>=0.6.1 in /local_disk0/.ephemeral_nfs/envs/pythonEnv-d6f03ca8-6718-41cd-a9e0-6a2764735a4d/lib/python3.10/site-packages (from azure-mgmt-authorization<5,>=0.40.0->azureml-core~=1.58.0->azureml-sdk) (0.7.2)\nRequirement already satisfied: importlib-metadata<=8.2.0 in /usr/lib/python3/dist-packages (from azureml-automl-core~=1.58.0->azureml-train-automl-client~=1.58.0->azureml-sdk) (4.6.4)\nRequirement already satisfied: importlib-resources<=6.4.0 in /local_disk0/.ephemeral_nfs/envs/pythonEnv-d6f03ca8-6718-41cd-a9e0-6a2764735a4d/lib/python3.10/site-packages (from azureml-automl-core~=1.58.0->azureml-train-automl-client~=1.58.0->azureml-sdk) (6.4.0)\nRequirement already satisfied: azure-identity>=1.7.0 in /local_disk0/.ephemeral_nfs/envs/pythonEnv-d6f03ca8-6718-41cd-a9e0-6a2764735a4d/lib/python3.10/site-packages (from azureml-dataprep<5.2.0a,>=5.1.0a->azureml-dataset-runtime[fuse]~=1.58.0->azureml-sdk) (1.19.0)\nRequirement already satisfied: azureml-dataprep-native<42.0.0,>=41.0.0 in /local_disk0/.ephemeral_nfs/envs/pythonEnv-d6f03ca8-6718-41cd-a9e0-6a2764735a4d/lib/python3.10/site-packages (from azureml-dataprep<5.2.0a,>=5.1.0a->azureml-dataset-runtime[fuse]~=1.58.0->azureml-sdk) (41.0.0)\nRequirement already satisfied: azureml-dataprep-rslex~=2.22.2dev0 in /local_disk0/.ephemeral_nfs/envs/pythonEnv-d6f03ca8-6718-41cd-a9e0-6a2764735a4d/lib/python3.10/site-packages (from azureml-dataprep<5.2.0a,>=5.1.0a->azureml-dataset-runtime[fuse]~=1.58.0->azureml-sdk) (2.22.4)\nRequirement already satisfied: cloudpickle<3.0.0,>=1.1.0 in /local_disk0/.ephemeral_nfs/envs/pythonEnv-d6f03ca8-6718-41cd-a9e0-6a2764735a4d/lib/python3.10/site-packages (from azureml-dataprep<5.2.0a,>=5.1.0a->azureml-dataset-runtime[fuse]~=1.58.0->azureml-sdk) (2.2.1)\nRequirement already satisfied: jsonschema in /databricks/python3/lib/python3.10/site-packages (from azureml-dataprep<5.2.0a,>=5.1.0a->azureml-dataset-runtime[fuse]~=1.58.0->azureml-sdk) (4.17.3)\nRequirement already satisfied: pyyaml<7.0.0,>=5.1.0 in /local_disk0/.ephemeral_nfs/envs/pythonEnv-d6f03ca8-6718-41cd-a9e0-6a2764735a4d/lib/python3.10/site-packages (from azureml-dataprep<5.2.0a,>=5.1.0a->azureml-dataset-runtime[fuse]~=1.58.0->azureml-sdk) (6.0.2)\nRequirement already satisfied: applicationinsights in /local_disk0/.ephemeral_nfs/envs/pythonEnv-d6f03ca8-6718-41cd-a9e0-6a2764735a4d/lib/python3.10/site-packages (from azureml-telemetry~=1.58.0->azureml-train-automl-client~=1.58.0->azureml-sdk) (0.11.10)\nRequirement already satisfied: pygments in /databricks/python3/lib/python3.10/site-packages (from knack<0.13.0->azureml-core~=1.58.0->azureml-sdk) (2.11.2)\nRequirement already satisfied: tabulate in /local_disk0/.ephemeral_nfs/envs/pythonEnv-d6f03ca8-6718-41cd-a9e0-6a2764735a4d/lib/python3.10/site-packages (from knack<0.13.0->azureml-core~=1.58.0->azureml-sdk) (0.9.0)\nRequirement already satisfied: portalocker<3,>=1.4 in /local_disk0/.ephemeral_nfs/envs/pythonEnv-d6f03ca8-6718-41cd-a9e0-6a2764735a4d/lib/python3.10/site-packages (from msal-extensions<=2.0.0,>=0.3.0->azureml-core~=1.58.0->azureml-sdk) (2.10.1)\nRequirement already satisfied: certifi>=2017.4.17 in /databricks/python3/lib/python3.10/site-packages (from msrest<=0.7.1,>=0.5.1->azureml-core~=1.58.0->azureml-sdk) (2022.12.7)\nRequirement already satisfied: requests-oauthlib>=0.5.0 in /local_disk0/.ephemeral_nfs/envs/pythonEnv-d6f03ca8-6718-41cd-a9e0-6a2764735a4d/lib/python3.10/site-packages (from msrest<=0.7.1,>=0.5.1->azureml-core~=1.58.0->azureml-sdk) (2.0.0)\nRequirement already satisfied: pyasn1>=0.1.1 in /local_disk0/.ephemeral_nfs/envs/pythonEnv-d6f03ca8-6718-41cd-a9e0-6a2764735a4d/lib/python3.10/site-packages (from ndg-httpsclient<=0.5.1->azureml-core~=1.58.0->azureml-sdk) (0.6.1)\nRequirement already satisfied: pynacl>=1.5 in /local_disk0/.ephemeral_nfs/envs/pythonEnv-d6f03ca8-6718-41cd-a9e0-6a2764735a4d/lib/python3.10/site-packages (from paramiko<4.0.0,>=2.0.8->azureml-core~=1.58.0->azureml-sdk) (1.5.0)\nRequirement already satisfied: bcrypt>=3.2 in /local_disk0/.ephemeral_nfs/envs/pythonEnv-d6f03ca8-6718-41cd-a9e0-6a2764735a4d/lib/python3.10/site-packages (from paramiko<4.0.0,>=2.0.8->azureml-core~=1.58.0->azureml-sdk) (4.2.0)\nRequirement already satisfied: charset-normalizer<3,>=2 in /databricks/python3/lib/python3.10/site-packages (from requests[socks]<3.0.0,>=2.19.1->azureml-core~=1.58.0->azureml-sdk) (2.0.4)\nRequirement already satisfied: idna<4,>=2.5 in /databricks/python3/lib/python3.10/site-packages (from requests[socks]<3.0.0,>=2.19.1->azureml-core~=1.58.0->azureml-sdk) (3.4)\nRequirement already satisfied: PySocks!=1.5.7,>=1.5.6 in /local_disk0/.ephemeral_nfs/envs/pythonEnv-d6f03ca8-6718-41cd-a9e0-6a2764735a4d/lib/python3.10/site-packages (from requests[socks]<3.0.0,>=2.19.1->azureml-core~=1.58.0->azureml-sdk) (1.7.1)\nRequirement already satisfied: backports.weakref in /local_disk0/.ephemeral_nfs/envs/pythonEnv-d6f03ca8-6718-41cd-a9e0-6a2764735a4d/lib/python3.10/site-packages (from backports.tempfile->azureml-core~=1.58.0->azureml-sdk) (1.0.post1)\nRequirement already satisfied: cffi>=1.12 in /databricks/python3/lib/python3.10/site-packages (from cryptography>=1.1.0->adal<=1.2.7,>=1.2.0->azureml-core~=1.58.0->azureml-sdk) (1.15.1)\nRequirement already satisfied: oauthlib>=3.0.0 in /usr/lib/python3/dist-packages (from requests-oauthlib>=0.5.0->msrest<=0.7.1,>=0.5.1->azureml-core~=1.58.0->azureml-sdk) (3.2.0)\nRequirement already satisfied: attrs>=17.4.0 in /databricks/python3/lib/python3.10/site-packages (from jsonschema->azureml-dataprep<5.2.0a,>=5.1.0a->azureml-dataset-runtime[fuse]~=1.58.0->azureml-sdk) (22.1.0)\nRequirement already satisfied: pyrsistent!=0.17.0,!=0.17.1,!=0.17.2,>=0.14.0 in /databricks/python3/lib/python3.10/site-packages (from jsonschema->azureml-dataprep<5.2.0a,>=5.1.0a->azureml-dataset-runtime[fuse]~=1.58.0->azureml-sdk) (0.18.0)\nRequirement already satisfied: pycparser in /databricks/python3/lib/python3.10/site-packages (from cffi>=1.12->cryptography>=1.1.0->adal<=1.2.7,>=1.2.0->azureml-core~=1.58.0->azureml-sdk) (2.21)\n\u001B[43mNote: you may need to restart the kernel using dbutils.library.restartPython() to use updated packages.\u001B[0m\n"
     ]
    }
   ],
   "source": [
    "!pip install azureml-sdk"
   ]
  },
  {
   "cell_type": "code",
   "execution_count": 0,
   "metadata": {
    "application/vnd.databricks.v1+cell": {
     "cellMetadata": {
      "byteLimit": 2048000,
      "rowLimit": 10000
     },
     "inputWidgets": {},
     "nuid": "97291153-1bab-4fe2-abfd-8a7e5c9f0ec1",
     "showTitle": false,
     "title": ""
    }
   },
   "outputs": [],
   "source": [
    "import os\n",
    "import json\n",
    "import requests\n",
    "\n",
    "from azureml.core import Workspace\n",
    "from azureml.core.model import Model\n",
    "from azureml.core.environment import Environment\n",
    "from azureml.core.conda_dependencies import CondaDependencies\n",
    "from azureml.core.model import InferenceConfig\n",
    "from azureml.core.webservice import AciWebservice, Webservice"
   ]
  },
  {
   "cell_type": "code",
   "execution_count": 0,
   "metadata": {
    "application/vnd.databricks.v1+cell": {
     "cellMetadata": {
      "byteLimit": 2048000,
      "rowLimit": 10000
     },
     "inputWidgets": {},
     "nuid": "36ad5d6b-ccaf-446d-9fa9-371d509587e5",
     "showTitle": false,
     "title": ""
    }
   },
   "outputs": [
    {
     "output_type": "stream",
     "name": "stdout",
     "output_type": "stream",
     "text": [
      "Deploying AppInsights with name machinelinsights46a27d70.\nDeployed AppInsights with name machinelinsights46a27d70. Took 2.57 seconds.\nDeploying StorageAccount with name machinelstoragec21022d61.\nDeploying KeyVault with name machinelkeyvault5c7d7f28.\nDeployed KeyVault with name machinelkeyvault5c7d7f28. Took 19.7 seconds.\nDeploying Workspace with name machine_learning_deploy_prview.\nDeployed StorageAccount with name machinelstoragec21022d61. Took 30.27 seconds.\nDeployed Workspace with name machine_learning_deploy_prview. Took 33.24 seconds.\nRegistering model fare_prediction_model\n"
     ]
    },
    {
     "output_type": "execute_result",
     "data": {
      "text/plain": [
       "Model(workspace=Workspace.create(name='machine_learning_deploy_prview', subscription_id='badd91b3-3039-41bc-9491-ba3af727b34d', resource_group='UBER_DEPI_GRADUATION_PROJECT'), name=fare_prediction_model, id=fare_prediction_model:1, version=1, tags={}, properties={})"
      ]
     },
     "execution_count": 25,
     "metadata": {},
     "output_type": "execute_result"
    }
   ],
   "source": [
    "from azureml.core import Workspace, Model\n",
    "\n",
    "ws = Workspace.create(name=\"machine_learning_deploy_prview\",\n",
    "                      subscription_id=\"badd91b3-3039-41bc-9491-ba3af727b34d\",\n",
    "                      resource_group=\"UBER_DEPI_GRADUATION_PROJECT\")\n",
    "Model.register(workspace=ws, model_path=\"model.pkl\", model_name=\"fare_prediction_model\")"
   ]
  },
  {
   "cell_type": "code",
   "execution_count": 0,
   "metadata": {
    "application/vnd.databricks.v1+cell": {
     "cellMetadata": {
      "byteLimit": 2048000,
      "rowLimit": 10000
     },
     "inputWidgets": {},
     "nuid": "ccadc713-d166-455a-a7b2-82958c9fbed7",
     "showTitle": false,
     "title": ""
    }
   },
   "outputs": [
    {
     "output_type": "stream",
     "name": "stdout",
     "output_type": "stream",
     "text": [
      "Registering model linear_regression_model\n"
     ]
    }
   ],
   "source": [
    "# Register the model in Azure Machine Learning\n",
    "registered_model = Model.register(model_path=\"model.pkl\", model_name=\"linear_regression_model\", workspace=ws)"
   ]
  },
  {
   "cell_type": "code",
   "execution_count": 0,
   "metadata": {
    "application/vnd.databricks.v1+cell": {
     "cellMetadata": {
      "byteLimit": 2048000,
      "rowLimit": 10000
     },
     "inputWidgets": {},
     "nuid": "2a2b14ed-2ad6-47e7-845b-5856aadea2d8",
     "showTitle": false,
     "title": ""
    }
   },
   "outputs": [],
   "source": [
    "# Create a Conda environment for your scikit-learn model\n",
    "conda_env = Environment('my-conda-env')\n",
    "conda_env.python.conda_dependencies = CondaDependencies.create(conda_packages=['scikit-learn'])"
   ]
  },
  {
   "cell_type": "code",
   "execution_count": 0,
   "metadata": {
    "application/vnd.databricks.v1+cell": {
     "cellMetadata": {
      "byteLimit": 2048000,
      "rowLimit": 10000
     },
     "inputWidgets": {},
     "nuid": "e0a95ace-7117-499c-86e2-e6e85db250e9",
     "showTitle": false,
     "title": ""
    }
   },
   "outputs": [],
   "source": [
    "# Create an InferenceConfig\n",
    "inference_config = InferenceConfig(entry_script='score.py', environment=conda_env)"
   ]
  },
  {
   "cell_type": "code",
   "execution_count": 0,
   "metadata": {
    "application/vnd.databricks.v1+cell": {
     "cellMetadata": {
      "byteLimit": 2048000,
      "rowLimit": 10000
     },
     "inputWidgets": {},
     "nuid": "8e50d87b-4b00-4561-9b1e-f881580de6e4",
     "showTitle": false,
     "title": ""
    }
   },
   "outputs": [],
   "source": [
    "# Specify deployment configuration for ACI\n",
    "aci_config = AciWebservice.deploy_configuration(cpu_cores=1, memory_gb=1)"
   ]
  },
  {
   "cell_type": "code",
   "execution_count": 0,
   "metadata": {
    "application/vnd.databricks.v1+cell": {
     "cellMetadata": {
      "byteLimit": 2048000,
      "rowLimit": 10000
     },
     "inputWidgets": {},
     "nuid": "b4adbefc-51e1-4b5e-bff7-563b0e976b47",
     "showTitle": false,
     "title": ""
    }
   },
   "outputs": [
    {
     "output_type": "stream",
     "name": "stdout",
     "output_type": "stream",
     "text": [
      "\u001B[43mNote: you may need to restart the kernel using dbutils.library.restartPython() to use updated packages.\u001B[0m\nCollecting azure-ai-ml\n  Downloading azure_ai_ml-1.21.0-py3-none-any.whl (11.4 MB)\n     ━━━━━━━━━━━━━━━━━━━━━━━━━━━━━━━━━━━━━━━━ 11.4/11.4 MB 40.0 MB/s eta 0:00:00\nRequirement already satisfied: azure-mgmt-core>=1.3.0 in /local_disk0/.ephemeral_nfs/envs/pythonEnv-d6f03ca8-6718-41cd-a9e0-6a2764735a4d/lib/python3.10/site-packages (from azure-ai-ml) (1.4.0)\nRequirement already satisfied: azure-core>=1.23.0 in /local_disk0/.ephemeral_nfs/envs/pythonEnv-d6f03ca8-6718-41cd-a9e0-6a2764735a4d/lib/python3.10/site-packages (from azure-ai-ml) (1.31.0)\nCollecting strictyaml\n  Downloading strictyaml-1.7.3-py3-none-any.whl (123 kB)\n     ━━━━━━━━━━━━━━━━━━━━━━━━━━━━━━━━━━━━━━ 123.9/123.9 kB 16.8 MB/s eta 0:00:00\nRequirement already satisfied: jsonschema>=4.0.0 in /databricks/python3/lib/python3.10/site-packages (from azure-ai-ml) (4.17.3)\nCollecting pydash>=6.0.0\n  Downloading pydash-8.0.3-py3-none-any.whl (101 kB)\n     ━━━━━━━━━━━━━━━━━━━━━━━━━━━━━━━━━━━━━━ 101.9/101.9 kB 14.2 MB/s eta 0:00:00\nRequirement already satisfied: isodate in /local_disk0/.ephemeral_nfs/envs/pythonEnv-d6f03ca8-6718-41cd-a9e0-6a2764735a4d/lib/python3.10/site-packages (from azure-ai-ml) (0.7.2)\nRequirement already satisfied: pyjwt in /usr/lib/python3/dist-packages (from azure-ai-ml) (2.3.0)\nCollecting azure-storage-file-share\n  Downloading azure_storage_file_share-12.19.0-py3-none-any.whl (281 kB)\n     ━━━━━━━━━━━━━━━━━━━━━━━━━━━━━━━━━━━━━━ 282.0/282.0 kB 20.0 MB/s eta 0:00:00\nCollecting opencensus-ext-logging\n  Downloading opencensus_ext_logging-0.1.1-py2.py3-none-any.whl (4.0 kB)\nCollecting colorama\n  Downloading colorama-0.4.6-py2.py3-none-any.whl (25 kB)\nRequirement already satisfied: msrest>=0.6.18 in /local_disk0/.ephemeral_nfs/envs/pythonEnv-d6f03ca8-6718-41cd-a9e0-6a2764735a4d/lib/python3.10/site-packages (from azure-ai-ml) (0.7.1)\nRequirement already satisfied: azure-common>=1.1 in /local_disk0/.ephemeral_nfs/envs/pythonEnv-d6f03ca8-6718-41cd-a9e0-6a2764735a4d/lib/python3.10/site-packages (from azure-ai-ml) (1.1.28)\nCollecting opencensus-ext-azure\n  Downloading opencensus_ext_azure-1.1.13-py2.py3-none-any.whl (43 kB)\n     ━━━━━━━━━━━━━━━━━━━━━━━━━━━━━━━━━━━━━━━━ 43.4/43.4 kB 6.5 MB/s eta 0:00:00\nCollecting azure-storage-blob>=12.10.0\n  Downloading azure_storage_blob-12.23.1-py3-none-any.whl (405 kB)\n     ━━━━━━━━━━━━━━━━━━━━━━━━━━━━━━━━━━━━━━ 405.6/405.6 kB 37.1 MB/s eta 0:00:00\nCollecting marshmallow>=3.5\n  Downloading marshmallow-3.22.0-py3-none-any.whl (49 kB)\n     ━━━━━━━━━━━━━━━━━━━━━━━━━━━━━━━━━━━━━━━━ 49.3/49.3 kB 6.6 MB/s eta 0:00:00\nCollecting tqdm\n  Downloading tqdm-4.66.5-py3-none-any.whl (78 kB)\n     ━━━━━━━━━━━━━━━━━━━━━━━━━━━━━━━━━━━━━━━━ 78.4/78.4 kB 11.8 MB/s eta 0:00:00\nCollecting azure-storage-file-datalake>=12.2.0\n  Downloading azure_storage_file_datalake-12.17.0-py3-none-any.whl (255 kB)\n     ━━━━━━━━━━━━━━━━━━━━━━━━━━━━━━━━━━━━━━ 255.7/255.7 kB 27.1 MB/s eta 0:00:00\nRequirement already satisfied: pyyaml>=5.1.0 in /local_disk0/.ephemeral_nfs/envs/pythonEnv-d6f03ca8-6718-41cd-a9e0-6a2764735a4d/lib/python3.10/site-packages (from azure-ai-ml) (6.0.2)\nRequirement already satisfied: typing-extensions in /local_disk0/.ephemeral_nfs/envs/pythonEnv-d6f03ca8-6718-41cd-a9e0-6a2764735a4d/lib/python3.10/site-packages (from azure-ai-ml) (4.12.2)\nRequirement already satisfied: requests>=2.21.0 in /databricks/python3/lib/python3.10/site-packages (from azure-core>=1.23.0->azure-ai-ml) (2.28.1)\nRequirement already satisfied: six>=1.11.0 in /usr/lib/python3/dist-packages (from azure-core>=1.23.0->azure-ai-ml) (1.16.0)\nRequirement already satisfied: cryptography>=2.1.4 in /local_disk0/.ephemeral_nfs/envs/pythonEnv-d6f03ca8-6718-41cd-a9e0-6a2764735a4d/lib/python3.10/site-packages (from azure-storage-blob>=12.10.0->azure-ai-ml) (43.0.1)\nRequirement already satisfied: pyrsistent!=0.17.0,!=0.17.1,!=0.17.2,>=0.14.0 in /databricks/python3/lib/python3.10/site-packages (from jsonschema>=4.0.0->azure-ai-ml) (0.18.0)\nRequirement already satisfied: attrs>=17.4.0 in /databricks/python3/lib/python3.10/site-packages (from jsonschema>=4.0.0->azure-ai-ml) (22.1.0)\nRequirement already satisfied: packaging>=17.0 in /databricks/python3/lib/python3.10/site-packages (from marshmallow>=3.5->azure-ai-ml) (23.2)\nRequirement already satisfied: requests-oauthlib>=0.5.0 in /local_disk0/.ephemeral_nfs/envs/pythonEnv-d6f03ca8-6718-41cd-a9e0-6a2764735a4d/lib/python3.10/site-packages (from msrest>=0.6.18->azure-ai-ml) (2.0.0)\nRequirement already satisfied: certifi>=2017.4.17 in /databricks/python3/lib/python3.10/site-packages (from msrest>=0.6.18->azure-ai-ml) (2022.12.7)\nRequirement already satisfied: azure-identity<2.0.0,>=1.5.0 in /local_disk0/.ephemeral_nfs/envs/pythonEnv-d6f03ca8-6718-41cd-a9e0-6a2764735a4d/lib/python3.10/site-packages (from opencensus-ext-azure->azure-ai-ml) (1.19.0)\nRequirement already satisfied: psutil>=5.6.3 in /databricks/python3/lib/python3.10/site-packages (from opencensus-ext-azure->azure-ai-ml) (5.9.0)\nCollecting opencensus<1.0.0,>=0.11.4\n  Downloading opencensus-0.11.4-py2.py3-none-any.whl (128 kB)\n     ━━━━━━━━━━━━━━━━━━━━━━━━━━━━━━━━━━━━━━ 128.2/128.2 kB 16.9 MB/s eta 0:00:00\nRequirement already satisfied: python-dateutil>=2.6.0 in /databricks/python3/lib/python3.10/site-packages (from strictyaml->azure-ai-ml) (2.8.2)\nRequirement already satisfied: msal-extensions>=1.2.0 in /local_disk0/.ephemeral_nfs/envs/pythonEnv-d6f03ca8-6718-41cd-a9e0-6a2764735a4d/lib/python3.10/site-packages (from azure-identity<2.0.0,>=1.5.0->opencensus-ext-azure->azure-ai-ml) (1.2.0)\nRequirement already satisfied: msal>=1.30.0 in /local_disk0/.ephemeral_nfs/envs/pythonEnv-d6f03ca8-6718-41cd-a9e0-6a2764735a4d/lib/python3.10/site-packages (from azure-identity<2.0.0,>=1.5.0->opencensus-ext-azure->azure-ai-ml) (1.31.0)\nRequirement already satisfied: cffi>=1.12 in /databricks/python3/lib/python3.10/site-packages (from cryptography>=2.1.4->azure-storage-blob>=12.10.0->azure-ai-ml) (1.15.1)\nCollecting google-api-core<3.0.0,>=1.0.0\n  Downloading google_api_core-2.21.0-py3-none-any.whl (156 kB)\n     ━━━━━━━━━━━━━━━━━━━━━━━━━━━━━━━━━━━━━━ 156.4/156.4 kB 18.1 MB/s eta 0:00:00\nCollecting opencensus-context>=0.1.3\n  Downloading opencensus_context-0.1.3-py2.py3-none-any.whl (5.1 kB)\nRequirement already satisfied: idna<4,>=2.5 in /databricks/python3/lib/python3.10/site-packages (from requests>=2.21.0->azure-core>=1.23.0->azure-ai-ml) (3.4)\nRequirement already satisfied: charset-normalizer<3,>=2 in /databricks/python3/lib/python3.10/site-packages (from requests>=2.21.0->azure-core>=1.23.0->azure-ai-ml) (2.0.4)\nRequirement already satisfied: urllib3<1.27,>=1.21.1 in /local_disk0/.ephemeral_nfs/envs/pythonEnv-d6f03ca8-6718-41cd-a9e0-6a2764735a4d/lib/python3.10/site-packages (from requests>=2.21.0->azure-core>=1.23.0->azure-ai-ml) (1.26.20)\nRequirement already satisfied: oauthlib>=3.0.0 in /usr/lib/python3/dist-packages (from requests-oauthlib>=0.5.0->msrest>=0.6.18->azure-ai-ml) (3.2.0)\nRequirement already satisfied: pycparser in /databricks/python3/lib/python3.10/site-packages (from cffi>=1.12->cryptography>=2.1.4->azure-storage-blob>=12.10.0->azure-ai-ml) (2.21)\nCollecting google-auth<3.0.dev0,>=2.14.1\n  Downloading google_auth-2.35.0-py2.py3-none-any.whl (208 kB)\n     ━━━━━━━━━━━━━━━━━━━━━━━━━━━━━━━━━━━━━━ 209.0/209.0 kB 23.0 MB/s eta 0:00:00\nCollecting proto-plus<2.0.0dev,>=1.22.3\n  Downloading proto_plus-1.24.0-py3-none-any.whl (50 kB)\n     ━━━━━━━━━━━━━━━━━━━━━━━━━━━━━━━━━━━━━━━━ 50.1/50.1 kB 6.7 MB/s eta 0:00:00\nRequirement already satisfied: googleapis-common-protos<2.0.dev0,>=1.56.2 in /databricks/python3/lib/python3.10/site-packages (from google-api-core<3.0.0,>=1.0.0->opencensus<1.0.0,>=0.11.4->opencensus-ext-azure->azure-ai-ml) (1.62.0)\nRequirement already satisfied: protobuf!=3.20.0,!=3.20.1,!=4.21.0,!=4.21.1,!=4.21.2,!=4.21.3,!=4.21.4,!=4.21.5,<6.0.0.dev0,>=3.19.5 in /databricks/python3/lib/python3.10/site-packages (from google-api-core<3.0.0,>=1.0.0->opencensus<1.0.0,>=0.11.4->opencensus-ext-azure->azure-ai-ml) (4.24.0)\nRequirement already satisfied: portalocker<3,>=1.4 in /local_disk0/.ephemeral_nfs/envs/pythonEnv-d6f03ca8-6718-41cd-a9e0-6a2764735a4d/lib/python3.10/site-packages (from msal-extensions>=1.2.0->azure-identity<2.0.0,>=1.5.0->opencensus-ext-azure->azure-ai-ml) (2.10.1)\nCollecting rsa<5,>=3.1.4\n  Downloading rsa-4.9-py3-none-any.whl (34 kB)\nCollecting cachetools<6.0,>=2.0.0\n  Downloading cachetools-5.5.0-py3-none-any.whl (9.5 kB)\nCollecting pyasn1-modules>=0.2.1\n  Downloading pyasn1_modules-0.4.1-py3-none-any.whl (181 kB)\n     ━━━━━━━━━━━━━━━━━━━━━━━━━━━━━━━━━━━━━━ 181.5/181.5 kB 21.1 MB/s eta 0:00:00\nRequirement already satisfied: pyasn1<0.7.0,>=0.4.6 in /local_disk0/.ephemeral_nfs/envs/pythonEnv-d6f03ca8-6718-41cd-a9e0-6a2764735a4d/lib/python3.10/site-packages (from pyasn1-modules>=0.2.1->google-auth<3.0.dev0,>=2.14.1->google-api-core<3.0.0,>=1.0.0->opencensus<1.0.0,>=0.11.4->opencensus-ext-azure->azure-ai-ml) (0.6.1)\nInstalling collected packages: opencensus-context, tqdm, rsa, pydash, pyasn1-modules, proto-plus, marshmallow, colorama, cachetools, strictyaml, google-auth, google-api-core, azure-storage-file-share, azure-storage-blob, opencensus, azure-storage-file-datalake, opencensus-ext-logging, opencensus-ext-azure, azure-ai-ml\nSuccessfully installed azure-ai-ml-1.21.0 azure-storage-blob-12.23.1 azure-storage-file-datalake-12.17.0 azure-storage-file-share-12.19.0 cachetools-5.5.0 colorama-0.4.6 google-api-core-2.21.0 google-auth-2.35.0 marshmallow-3.22.0 opencensus-0.11.4 opencensus-context-0.1.3 opencensus-ext-azure-1.1.13 opencensus-ext-logging-0.1.1 proto-plus-1.24.0 pyasn1-modules-0.4.1 pydash-8.0.3 rsa-4.9 strictyaml-1.7.3 tqdm-4.66.5\n\u001B[43mNote: you may need to restart the kernel using dbutils.library.restartPython() to use updated packages.\u001B[0m\n"
     ]
    }
   ],
   "source": [
    "pip install azure-ai-ml"
   ]
  },
  {
   "cell_type": "code",
   "execution_count": 0,
   "metadata": {
    "application/vnd.databricks.v1+cell": {
     "cellMetadata": {
      "byteLimit": 2048000,
      "rowLimit": 10000
     },
     "inputWidgets": {},
     "nuid": "f5b6ed8a-ea53-42a3-bc57-e1d5ee0cc5a7",
     "showTitle": false,
     "title": ""
    }
   },
   "outputs": [],
   "source": [
    "# Import required libraries\n",
    "import os\n",
    "import json\n",
    "import requests\n",
    "from azureml.core import Workspace, Model, Environment\n",
    "from azureml.core.conda_dependencies import CondaDependencies\n",
    "from azureml.core.model import InferenceConfig\n",
    "from azureml.core.webservice import AciWebservice, Webservice\n",
    "from azure.ai.ml import MLClient\n",
    "from azure.identity import DefaultAzureCredential\n",
    "from azure.ai.ml.entities import ManagedOnlineEndpoint, ManagedOnlineDeployment\n",
    "\n",
    "# Authentication using DefaultAzureCredential\n",
    "credential = DefaultAzureCredential()\n",
    "\n",
    "# Create MLClient using the workspace, subscription, and resource group\n",
    "ml_client = MLClient(\n",
    "    credential=credential,\n",
    "    subscription_id=\"badd91b3-3039-41bc-9491-ba3af727b34d\",\n",
    "    resource_group=\"UBER_DEPI_GRADUATION_PROJECT\",\n",
    "    workspace=\"machine_learning_deployment_pr\"\n",
    ")"
   ]
  },
  {
   "cell_type": "code",
   "execution_count": 0,
   "metadata": {
    "application/vnd.databricks.v1+cell": {
     "cellMetadata": {
      "byteLimit": 2048000,
      "rowLimit": 10000
     },
     "inputWidgets": {},
     "nuid": "03430275-63b8-4129-9410-3a481f43e411",
     "showTitle": false,
     "title": ""
    }
   },
   "outputs": [],
   "source": [
    "ws = Workspace.get(name=\"machine_learning_deployment_pr\", \n",
    "                   subscription_id=\"badd91b3-3039-41bc-9491-ba3af727b34d\", \n",
    "                   resource_group=\"UBER_DEPI_GRADUATION_PROJECT\")\n"
   ]
  },
  {
   "cell_type": "code",
   "execution_count": 0,
   "metadata": {
    "application/vnd.databricks.v1+cell": {
     "cellMetadata": {
      "byteLimit": 2048000,
      "rowLimit": 10000
     },
     "inputWidgets": {},
     "nuid": "2325b30a-5305-4a3f-8b62-903c13e842d4",
     "showTitle": false,
     "title": ""
    }
   },
   "outputs": [
    {
     "output_type": "stream",
     "name": "stdout",
     "output_type": "stream",
     "text": [
      "Registering model linear_regression_model\n"
     ]
    }
   ],
   "source": [
    "from azure.identity import DefaultAzureCredential\n",
    "from azureml.core import Workspace, Model\n",
    "from azure.ai.ml import MLClient\n",
    "model = Model.register(\n",
    "    workspace=ws,            # Use the Workspace object\n",
    "    model_path=\"model.pkl\",  # Path to your model file\n",
    "    model_name=\"linear_regression_model\"\n",
    ")"
   ]
  },
  {
   "cell_type": "code",
   "execution_count": 0,
   "metadata": {
    "application/vnd.databricks.v1+cell": {
     "cellMetadata": {
      "byteLimit": 2048000,
      "rowLimit": 10000
     },
     "inputWidgets": {},
     "nuid": "b63152b5-8fd0-48b2-9962-ac1b3909d690",
     "showTitle": false,
     "title": ""
    }
   },
   "outputs": [],
   "source": [
    "from azureml.core import Environment\n",
    "from azureml.core.conda_dependencies import CondaDependencies\n",
    "\n",
    "# Create a Conda environment\n",
    "conda_env = Environment('my-conda-env')\n",
    "conda_env.python.conda_dependencies = CondaDependencies.create(conda_packages=['scikit-learn', 'numpy', 'pandas'])\n"
   ]
  },
  {
   "cell_type": "code",
   "execution_count": 0,
   "metadata": {
    "application/vnd.databricks.v1+cell": {
     "cellMetadata": {
      "byteLimit": 2048000,
      "rowLimit": 10000
     },
     "inputWidgets": {},
     "nuid": "950b6e41-95f7-42d1-9d27-0168ed8e3976",
     "showTitle": false,
     "title": ""
    }
   },
   "outputs": [
    {
     "output_type": "stream",
     "name": "stderr",
     "output_type": "stream",
     "text": [
      "/root/.ipykernel/873/command-919545387619451-3875824029:11: FutureWarning: azureml.core.model:\nTo leverage new model deployment capabilities, AzureML recommends using CLI/SDK v2 to deploy models as online endpoint, \nplease refer to respective documentations \nhttps://docs.microsoft.com/azure/machine-learning/how-to-deploy-managed-online-endpoints /\nhttps://docs.microsoft.com/azure/machine-learning/how-to-attach-kubernetes-anywhere \nFor more information on migration, see https://aka.ms/acimoemigration \nTo disable CLI/SDK v1 deprecation warning set AZUREML_LOG_DEPRECATION_WARNING_ENABLED to 'False'\n  service = Model.deploy(workspace=ws,\n"
     ]
    },
    {
     "output_type": "stream",
     "name": "stdout",
     "output_type": "stream",
     "text": [
      "Tips: You can try get_logs(): https://aka.ms/debugimage#dockerlog or local deployment: https://aka.ms/debugimage#debug-locally to debug if deployment takes longer than 10 minutes.\nRunning\n2024-10-17 09:18:21+00:00 Creating Container Registry if not exists.\n2024-10-17 09:18:22+00:00 Registering the environment.\n2024-10-17 09:18:23+00:00 Use the existing image.\n2024-10-17 09:18:24+00:00 Generating deployment configuration.\n2024-10-17 09:18:26+00:00 Submitting deployment to compute..\n2024-10-17 09:18:30+00:00 Checking the status of deployment my-service..\n2024-10-17 09:25:59+00:00 Checking the status of inference endpoint my-service.\nFailed\n"
     ]
    },
    {
     "output_type": "stream",
     "name": "stderr",
     "output_type": "stream",
     "text": [
      "Service deployment polling reached non-successful terminal state, current service state: Unhealthy\nOperation ID: 74e9c929-95c5-4723-957f-fff4008a7a7b\nMore information can be found using '.get_logs()'\nError:\n{\n  \"code\": \"AciDeploymentFailed\",\n  \"statusCode\": 400,\n  \"message\": \"Aci Deployment failed with exception: Error in entry script, ModuleNotFoundError: No module named 'pandas', please run print(service.get_logs()) to get details.\",\n  \"details\": [\n    {\n      \"code\": \"CrashLoopBackOff\",\n      \"message\": \"Error in entry script, ModuleNotFoundError: No module named 'pandas', please run print(service.get_logs()) to get details.\"\n    }\n  ]\n}\n\n"
     ]
    },
    {
     "output_type": "display_data",
     "data": {
      "text/plain": [
       "\u001B[0;31m---------------------------------------------------------------------------\u001B[0m\n",
       "\u001B[0;31mWebserviceException\u001B[0m                       Traceback (most recent call last)\n",
       "File \u001B[0;32m<command-919545387619451>, line 18\u001B[0m\n",
       "\u001B[1;32m     10\u001B[0m \u001B[38;5;66;03m# Deploy the model\u001B[39;00m\n",
       "\u001B[1;32m     11\u001B[0m service \u001B[38;5;241m=\u001B[39m Model\u001B[38;5;241m.\u001B[39mdeploy(workspace\u001B[38;5;241m=\u001B[39mws,\n",
       "\u001B[1;32m     12\u001B[0m                        name\u001B[38;5;241m=\u001B[39m\u001B[38;5;124m\"\u001B[39m\u001B[38;5;124mmy-service\u001B[39m\u001B[38;5;124m\"\u001B[39m,\n",
       "\u001B[1;32m     13\u001B[0m                        models\u001B[38;5;241m=\u001B[39m[registered_model],\n",
       "\u001B[1;32m     14\u001B[0m                        inference_config\u001B[38;5;241m=\u001B[39minference_config,\n",
       "\u001B[1;32m     15\u001B[0m                        deployment_config\u001B[38;5;241m=\u001B[39maci_config,\n",
       "\u001B[1;32m     16\u001B[0m                        overwrite\u001B[38;5;241m=\u001B[39m\u001B[38;5;28;01mTrue\u001B[39;00m)\n",
       "\u001B[0;32m---> 18\u001B[0m service\u001B[38;5;241m.\u001B[39mwait_for_deployment(show_output\u001B[38;5;241m=\u001B[39m\u001B[38;5;28;01mTrue\u001B[39;00m)\n",
       "\u001B[1;32m     19\u001B[0m \u001B[38;5;28mprint\u001B[39m(service\u001B[38;5;241m.\u001B[39mstate)\n",
       "\n",
       "File \u001B[0;32m/local_disk0/.ephemeral_nfs/envs/pythonEnv-d6f03ca8-6718-41cd-a9e0-6a2764735a4d/lib/python3.10/site-packages/azureml/core/webservice/webservice.py:910\u001B[0m, in \u001B[0;36mWebservice.wait_for_deployment\u001B[0;34m(self, show_output, timeout_sec)\u001B[0m\n",
       "\u001B[1;32m    907\u001B[0m         \u001B[38;5;28;01mif\u001B[39;00m \u001B[38;5;129;01mnot\u001B[39;00m logs_response:\n",
       "\u001B[1;32m    908\u001B[0m             logs_response \u001B[38;5;241m=\u001B[39m \u001B[38;5;124m'\u001B[39m\u001B[38;5;124mCurrent sub-operation type not known, more logs unavailable.\u001B[39m\u001B[38;5;124m'\u001B[39m\n",
       "\u001B[0;32m--> 910\u001B[0m         \u001B[38;5;28;01mraise\u001B[39;00m WebserviceException(\u001B[38;5;124m'\u001B[39m\u001B[38;5;124mService deployment polling reached non-successful terminal state, current \u001B[39m\u001B[38;5;124m'\u001B[39m\n",
       "\u001B[1;32m    911\u001B[0m                                   \u001B[38;5;124m'\u001B[39m\u001B[38;5;124mservice state: \u001B[39m\u001B[38;5;132;01m{}\u001B[39;00m\u001B[38;5;130;01m\\n\u001B[39;00m\u001B[38;5;124m'\u001B[39m\n",
       "\u001B[1;32m    912\u001B[0m                                   \u001B[38;5;124m'\u001B[39m\u001B[38;5;124mOperation ID: \u001B[39m\u001B[38;5;132;01m{}\u001B[39;00m\u001B[38;5;130;01m\\n\u001B[39;00m\u001B[38;5;124m'\u001B[39m\n",
       "\u001B[1;32m    913\u001B[0m                                   \u001B[38;5;124m'\u001B[39m\u001B[38;5;132;01m{}\u001B[39;00m\u001B[38;5;130;01m\\n\u001B[39;00m\u001B[38;5;124m'\u001B[39m\n",
       "\u001B[1;32m    914\u001B[0m                                   \u001B[38;5;124m'\u001B[39m\u001B[38;5;124mError:\u001B[39m\u001B[38;5;130;01m\\n\u001B[39;00m\u001B[38;5;124m'\u001B[39m\n",
       "\u001B[1;32m    915\u001B[0m                                   \u001B[38;5;124m'\u001B[39m\u001B[38;5;132;01m{}\u001B[39;00m\u001B[38;5;124m'\u001B[39m\u001B[38;5;241m.\u001B[39mformat(\u001B[38;5;28mself\u001B[39m\u001B[38;5;241m.\u001B[39mstate, \u001B[38;5;28mself\u001B[39m\u001B[38;5;241m.\u001B[39m_operation_endpoint\u001B[38;5;241m.\u001B[39msplit(\u001B[38;5;124m'\u001B[39m\u001B[38;5;124m/\u001B[39m\u001B[38;5;124m'\u001B[39m)[\u001B[38;5;241m-\u001B[39m\u001B[38;5;241m1\u001B[39m],\n",
       "\u001B[1;32m    916\u001B[0m                                               logs_response, format_error_response), logger\u001B[38;5;241m=\u001B[39mmodule_logger)\n",
       "\u001B[1;32m    917\u001B[0m     \u001B[38;5;28mprint\u001B[39m(\u001B[38;5;124m'\u001B[39m\u001B[38;5;132;01m{}\u001B[39;00m\u001B[38;5;124m service creation operation finished, operation \u001B[39m\u001B[38;5;124m\"\u001B[39m\u001B[38;5;132;01m{}\u001B[39;00m\u001B[38;5;124m\"\u001B[39m\u001B[38;5;124m'\u001B[39m\u001B[38;5;241m.\u001B[39mformat(\u001B[38;5;28mself\u001B[39m\u001B[38;5;241m.\u001B[39m_webservice_type,\n",
       "\u001B[1;32m    918\u001B[0m                                                                           operation_state))\n",
       "\u001B[1;32m    919\u001B[0m \u001B[38;5;28;01mexcept\u001B[39;00m WebserviceException \u001B[38;5;28;01mas\u001B[39;00m e:\n",
       "\n",
       "\u001B[0;31mWebserviceException\u001B[0m: WebserviceException:\n",
       "\tMessage: Service deployment polling reached non-successful terminal state, current service state: Unhealthy\n",
       "Operation ID: 74e9c929-95c5-4723-957f-fff4008a7a7b\n",
       "More information can be found using '.get_logs()'\n",
       "Error:\n",
       "{\n",
       "  \"code\": \"AciDeploymentFailed\",\n",
       "  \"statusCode\": 400,\n",
       "  \"message\": \"Aci Deployment failed with exception: Error in entry script, ModuleNotFoundError: No module named 'pandas', please run print(service.get_logs()) to get details.\",\n",
       "  \"details\": [\n",
       "    {\n",
       "      \"code\": \"CrashLoopBackOff\",\n",
       "      \"message\": \"Error in entry script, ModuleNotFoundError: No module named 'pandas', please run print(service.get_logs()) to get details.\"\n",
       "    }\n",
       "  ]\n",
       "}\n",
       "\tInnerException None\n",
       "\tErrorResponse \n",
       "{\n",
       "    \"error\": {\n",
       "        \"message\": \"Service deployment polling reached non-successful terminal state, current service state: Unhealthy\\nOperation ID: 74e9c929-95c5-4723-957f-fff4008a7a7b\\nMore information can be found using '.get_logs()'\\nError:\\n{\\n  \\\"code\\\": \\\"AciDeploymentFailed\\\",\\n  \\\"statusCode\\\": 400,\\n  \\\"message\\\": \\\"Aci Deployment failed with exception: Error in entry script, ModuleNotFoundError: No module named 'pandas', please run print(service.get_logs()) to get details.\\\",\\n  \\\"details\\\": [\\n    {\\n      \\\"code\\\": \\\"CrashLoopBackOff\\\",\\n      \\\"message\\\": \\\"Error in entry script, ModuleNotFoundError: No module named 'pandas', please run print(service.get_logs()) to get details.\\\"\\n    }\\n  ]\\n}\"\n",
       "    }\n",
       "}"
      ]
     },
     "metadata": {
      "application/vnd.databricks.v1+output": {
       "addedWidgets": {},
       "arguments": {},
       "datasetInfos": [],
       "jupyterProps": {
        "ename": "WebserviceException",
        "evalue": "WebserviceException:\n\tMessage: Service deployment polling reached non-successful terminal state, current service state: Unhealthy\nOperation ID: 74e9c929-95c5-4723-957f-fff4008a7a7b\nMore information can be found using '.get_logs()'\nError:\n{\n  \"code\": \"AciDeploymentFailed\",\n  \"statusCode\": 400,\n  \"message\": \"Aci Deployment failed with exception: Error in entry script, ModuleNotFoundError: No module named 'pandas', please run print(service.get_logs()) to get details.\",\n  \"details\": [\n    {\n      \"code\": \"CrashLoopBackOff\",\n      \"message\": \"Error in entry script, ModuleNotFoundError: No module named 'pandas', please run print(service.get_logs()) to get details.\"\n    }\n  ]\n}\n\tInnerException None\n\tErrorResponse \n{\n    \"error\": {\n        \"message\": \"Service deployment polling reached non-successful terminal state, current service state: Unhealthy\\nOperation ID: 74e9c929-95c5-4723-957f-fff4008a7a7b\\nMore information can be found using '.get_logs()'\\nError:\\n{\\n  \\\"code\\\": \\\"AciDeploymentFailed\\\",\\n  \\\"statusCode\\\": 400,\\n  \\\"message\\\": \\\"Aci Deployment failed with exception: Error in entry script, ModuleNotFoundError: No module named 'pandas', please run print(service.get_logs()) to get details.\\\",\\n  \\\"details\\\": [\\n    {\\n      \\\"code\\\": \\\"CrashLoopBackOff\\\",\\n      \\\"message\\\": \\\"Error in entry script, ModuleNotFoundError: No module named 'pandas', please run print(service.get_logs()) to get details.\\\"\\n    }\\n  ]\\n}\"\n    }\n}"
       },
       "metadata": {
        "errorSummary": "<span class='ansi-red-fg'>WebserviceException</span>: WebserviceException:\n\tMessage: Service deployment polling reached non-successful terminal state, current service state: Unhealthy\nOperation ID: 74e9c929-95c5-4723-957f-fff4008a7a7b\nMore information can be found using '.get_logs()'\nError:\n{\n  \"code\": \"AciDeploymentFailed\",\n  \"statusCode\": 400,\n  \"message\": \"Aci Deployment failed with exception: Error in entry script, ModuleNotFoundError: No module named 'pandas', please run print(service.get_logs()) to get details.\",\n  \"details\": [\n    {\n      \"code\": \"CrashLoopBackOff\",\n      \"message\": \"Error in entry script, ModuleNotFoundError: No module named 'pandas', please run print(service.get_logs()) to get details.\"\n    }\n  ]\n}\n\tInnerException None\n\tErrorResponse \n{\n    \"error\": {\n        \"message\": \"Service deployment polling reached non-successful terminal state, current service state: Unhealthy\\nOperation ID: 74e9c929-95c5-4723-957f-fff4008a7a7b\\nMore information can be found using '.get_logs()'\\nError:\\n{\\n  \\\"code\\\": \\\"AciDeploymentFailed\\\",\\n  \\\"statusCode\\\": 400,\\n  \\\"message\\\": \\\"Aci Deployment failed with exception: Error in entry script, ModuleNotFoundError: No module named 'pandas', please run print(service.get_logs()) to get details.\\\",\\n  \\\"details\\\": [\\n    {\\n      \\\"code\\\": \\\"CrashLoopBackOff\\\",\\n      \\\"message\\\": \\\"Error in entry script, ModuleNotFoundError: No module named 'pandas', please run print(service.get_logs()) to get details.\\\"\\n    }\\n  ]\\n}\"\n    }\n}"
       },
       "removedWidgets": [],
       "sqlProps": null,
       "stackFrames": [
        "\u001B[0;31m---------------------------------------------------------------------------\u001B[0m",
        "\u001B[0;31mWebserviceException\u001B[0m                       Traceback (most recent call last)",
        "File \u001B[0;32m<command-919545387619451>, line 18\u001B[0m\n\u001B[1;32m     10\u001B[0m \u001B[38;5;66;03m# Deploy the model\u001B[39;00m\n\u001B[1;32m     11\u001B[0m service \u001B[38;5;241m=\u001B[39m Model\u001B[38;5;241m.\u001B[39mdeploy(workspace\u001B[38;5;241m=\u001B[39mws,\n\u001B[1;32m     12\u001B[0m                        name\u001B[38;5;241m=\u001B[39m\u001B[38;5;124m\"\u001B[39m\u001B[38;5;124mmy-service\u001B[39m\u001B[38;5;124m\"\u001B[39m,\n\u001B[1;32m     13\u001B[0m                        models\u001B[38;5;241m=\u001B[39m[registered_model],\n\u001B[1;32m     14\u001B[0m                        inference_config\u001B[38;5;241m=\u001B[39minference_config,\n\u001B[1;32m     15\u001B[0m                        deployment_config\u001B[38;5;241m=\u001B[39maci_config,\n\u001B[1;32m     16\u001B[0m                        overwrite\u001B[38;5;241m=\u001B[39m\u001B[38;5;28;01mTrue\u001B[39;00m)\n\u001B[0;32m---> 18\u001B[0m service\u001B[38;5;241m.\u001B[39mwait_for_deployment(show_output\u001B[38;5;241m=\u001B[39m\u001B[38;5;28;01mTrue\u001B[39;00m)\n\u001B[1;32m     19\u001B[0m \u001B[38;5;28mprint\u001B[39m(service\u001B[38;5;241m.\u001B[39mstate)\n",
        "File \u001B[0;32m/local_disk0/.ephemeral_nfs/envs/pythonEnv-d6f03ca8-6718-41cd-a9e0-6a2764735a4d/lib/python3.10/site-packages/azureml/core/webservice/webservice.py:910\u001B[0m, in \u001B[0;36mWebservice.wait_for_deployment\u001B[0;34m(self, show_output, timeout_sec)\u001B[0m\n\u001B[1;32m    907\u001B[0m         \u001B[38;5;28;01mif\u001B[39;00m \u001B[38;5;129;01mnot\u001B[39;00m logs_response:\n\u001B[1;32m    908\u001B[0m             logs_response \u001B[38;5;241m=\u001B[39m \u001B[38;5;124m'\u001B[39m\u001B[38;5;124mCurrent sub-operation type not known, more logs unavailable.\u001B[39m\u001B[38;5;124m'\u001B[39m\n\u001B[0;32m--> 910\u001B[0m         \u001B[38;5;28;01mraise\u001B[39;00m WebserviceException(\u001B[38;5;124m'\u001B[39m\u001B[38;5;124mService deployment polling reached non-successful terminal state, current \u001B[39m\u001B[38;5;124m'\u001B[39m\n\u001B[1;32m    911\u001B[0m                                   \u001B[38;5;124m'\u001B[39m\u001B[38;5;124mservice state: \u001B[39m\u001B[38;5;132;01m{}\u001B[39;00m\u001B[38;5;130;01m\\n\u001B[39;00m\u001B[38;5;124m'\u001B[39m\n\u001B[1;32m    912\u001B[0m                                   \u001B[38;5;124m'\u001B[39m\u001B[38;5;124mOperation ID: \u001B[39m\u001B[38;5;132;01m{}\u001B[39;00m\u001B[38;5;130;01m\\n\u001B[39;00m\u001B[38;5;124m'\u001B[39m\n\u001B[1;32m    913\u001B[0m                                   \u001B[38;5;124m'\u001B[39m\u001B[38;5;132;01m{}\u001B[39;00m\u001B[38;5;130;01m\\n\u001B[39;00m\u001B[38;5;124m'\u001B[39m\n\u001B[1;32m    914\u001B[0m                                   \u001B[38;5;124m'\u001B[39m\u001B[38;5;124mError:\u001B[39m\u001B[38;5;130;01m\\n\u001B[39;00m\u001B[38;5;124m'\u001B[39m\n\u001B[1;32m    915\u001B[0m                                   \u001B[38;5;124m'\u001B[39m\u001B[38;5;132;01m{}\u001B[39;00m\u001B[38;5;124m'\u001B[39m\u001B[38;5;241m.\u001B[39mformat(\u001B[38;5;28mself\u001B[39m\u001B[38;5;241m.\u001B[39mstate, \u001B[38;5;28mself\u001B[39m\u001B[38;5;241m.\u001B[39m_operation_endpoint\u001B[38;5;241m.\u001B[39msplit(\u001B[38;5;124m'\u001B[39m\u001B[38;5;124m/\u001B[39m\u001B[38;5;124m'\u001B[39m)[\u001B[38;5;241m-\u001B[39m\u001B[38;5;241m1\u001B[39m],\n\u001B[1;32m    916\u001B[0m                                               logs_response, format_error_response), logger\u001B[38;5;241m=\u001B[39mmodule_logger)\n\u001B[1;32m    917\u001B[0m     \u001B[38;5;28mprint\u001B[39m(\u001B[38;5;124m'\u001B[39m\u001B[38;5;132;01m{}\u001B[39;00m\u001B[38;5;124m service creation operation finished, operation \u001B[39m\u001B[38;5;124m\"\u001B[39m\u001B[38;5;132;01m{}\u001B[39;00m\u001B[38;5;124m\"\u001B[39m\u001B[38;5;124m'\u001B[39m\u001B[38;5;241m.\u001B[39mformat(\u001B[38;5;28mself\u001B[39m\u001B[38;5;241m.\u001B[39m_webservice_type,\n\u001B[1;32m    918\u001B[0m                                                                           operation_state))\n\u001B[1;32m    919\u001B[0m \u001B[38;5;28;01mexcept\u001B[39;00m WebserviceException \u001B[38;5;28;01mas\u001B[39;00m e:\n",
        "\u001B[0;31mWebserviceException\u001B[0m: WebserviceException:\n\tMessage: Service deployment polling reached non-successful terminal state, current service state: Unhealthy\nOperation ID: 74e9c929-95c5-4723-957f-fff4008a7a7b\nMore information can be found using '.get_logs()'\nError:\n{\n  \"code\": \"AciDeploymentFailed\",\n  \"statusCode\": 400,\n  \"message\": \"Aci Deployment failed with exception: Error in entry script, ModuleNotFoundError: No module named 'pandas', please run print(service.get_logs()) to get details.\",\n  \"details\": [\n    {\n      \"code\": \"CrashLoopBackOff\",\n      \"message\": \"Error in entry script, ModuleNotFoundError: No module named 'pandas', please run print(service.get_logs()) to get details.\"\n    }\n  ]\n}\n\tInnerException None\n\tErrorResponse \n{\n    \"error\": {\n        \"message\": \"Service deployment polling reached non-successful terminal state, current service state: Unhealthy\\nOperation ID: 74e9c929-95c5-4723-957f-fff4008a7a7b\\nMore information can be found using '.get_logs()'\\nError:\\n{\\n  \\\"code\\\": \\\"AciDeploymentFailed\\\",\\n  \\\"statusCode\\\": 400,\\n  \\\"message\\\": \\\"Aci Deployment failed with exception: Error in entry script, ModuleNotFoundError: No module named 'pandas', please run print(service.get_logs()) to get details.\\\",\\n  \\\"details\\\": [\\n    {\\n      \\\"code\\\": \\\"CrashLoopBackOff\\\",\\n      \\\"message\\\": \\\"Error in entry script, ModuleNotFoundError: No module named 'pandas', please run print(service.get_logs()) to get details.\\\"\\n    }\\n  ]\\n}\"\n    }\n}"
       ],
       "type": "baseError"
      }
     },
     "output_type": "display_data"
    }
   ],
   "source": [
    "from azureml.core.webservice import AciWebservice, Webservice\n",
    "from azureml.core.model import InferenceConfig\n",
    "\n",
    "# Define inference configuration\n",
    "inference_config = InferenceConfig(entry_script=\"score.py\", environment=conda_env)\n",
    "\n",
    "# Define the deployment configuration\n",
    "aci_config = AciWebservice.deploy_configuration(cpu_cores=1, memory_gb=1)\n",
    "\n",
    "# Deploy the model\n",
    "service = Model.deploy(workspace=ws,\n",
    "                       name=\"my-service\",\n",
    "                       models=[registered_model],\n",
    "                       inference_config=inference_config,\n",
    "                       deployment_config=aci_config,\n",
    "                       overwrite=True)\n",
    "\n",
    "service.wait_for_deployment(show_output=True)\n",
    "print(service.state)\n"
   ]
  },
  {
   "cell_type": "code",
   "execution_count": 0,
   "metadata": {
    "application/vnd.databricks.v1+cell": {
     "cellMetadata": {
      "byteLimit": 2048000,
      "rowLimit": 10000
     },
     "inputWidgets": {},
     "nuid": "88faab53-7863-4f37-b99a-d485ff882589",
     "showTitle": false,
     "title": ""
    }
   },
   "outputs": [],
   "source": [
    "scoring_uri = service.scoring_uri"
   ]
  },
  {
   "cell_type": "code",
   "execution_count": 0,
   "metadata": {
    "application/vnd.databricks.v1+cell": {
     "cellMetadata": {
      "byteLimit": 2048000,
      "rowLimit": 10000
     },
     "inputWidgets": {},
     "nuid": "ca3535fa-c09e-480a-873b-62ffd14b6c55",
     "showTitle": false,
     "title": ""
    }
   },
   "outputs": [
    {
     "output_type": "stream",
     "name": "stdout",
     "output_type": "stream",
     "text": [
      "None\n"
     ]
    }
   ],
   "source": [
    "print(scoring_uri)"
   ]
  },
  {
   "cell_type": "code",
   "execution_count": 0,
   "metadata": {
    "application/vnd.databricks.v1+cell": {
     "cellMetadata": {},
     "inputWidgets": {},
     "nuid": "558f129d-6d15-4244-99bd-402090d15cf2",
     "showTitle": false,
     "title": ""
    }
   },
   "outputs": [],
   "source": []
  }
 ],
 "metadata": {
  "application/vnd.databricks.v1+notebook": {
   "dashboards": [],
   "environmentMetadata": null,
   "language": "python",
   "notebookMetadata": {
    "pythonIndentUnit": 4
   },
   "notebookName": "deploy-to-azure",
   "widgets": {}
  }
 },
 "nbformat": 4,
 "nbformat_minor": 0
}
